{
  "nbformat": 4,
  "nbformat_minor": 0,
  "metadata": {
    "colab": {
      "provenance": [],
      "collapsed_sections": [
        "GFdpOWcGsq7X",
        "vaabYNGnybUX",
        "OvPwBsrD32qq",
        "-Gb8npvW49Pe",
        "zyMTDTw7Fj66"
      ]
    },
    "kernelspec": {
      "name": "python3",
      "display_name": "Python 3"
    },
    "language_info": {
      "name": "python"
    },
    "accelerator": "GPU",
    "gpuClass": "standard"
  },
  "cells": [
    {
      "cell_type": "markdown",
      "source": [
        "## Mounting Drive"
      ],
      "metadata": {
        "id": "djh_i-DqraIc"
      }
    },
    {
      "cell_type": "code",
      "execution_count": null,
      "metadata": {
        "colab": {
          "base_uri": "https://localhost:8080/"
        },
        "id": "uxrQdtQDq2hO",
        "outputId": "590e7ca0-012e-41d7-84cd-e41a07a9a3a4"
      },
      "outputs": [
        {
          "output_type": "stream",
          "name": "stdout",
          "text": [
            "Drive already mounted at /content/drive; to attempt to forcibly remount, call drive.mount(\"/content/drive\", force_remount=True).\n"
          ]
        }
      ],
      "source": [
        "from google.colab import drive\n",
        "drive.mount('/content/drive')"
      ]
    },
    {
      "cell_type": "markdown",
      "source": [
        "## Installing TensorFlow"
      ],
      "metadata": {
        "id": "LSF4RmRMren5"
      }
    },
    {
      "cell_type": "code",
      "source": [
        "import tensorflow as tf\n",
        "tf.__version__"
      ],
      "metadata": {
        "colab": {
          "base_uri": "https://localhost:8080/",
          "height": 36
        },
        "id": "YVSXc5XariD5",
        "outputId": "23d6416d-0202-44bb-b8dd-a457eb5f6cec"
      },
      "execution_count": null,
      "outputs": [
        {
          "output_type": "execute_result",
          "data": {
            "text/plain": [
              "'2.11.0'"
            ],
            "application/vnd.google.colaboratory.intrinsic+json": {
              "type": "string"
            }
          },
          "metadata": {},
          "execution_count": 19
        }
      ]
    },
    {
      "cell_type": "markdown",
      "source": [
        "####Changing Working Directory to Directory where data is stored"
      ],
      "metadata": {
        "id": "GFdpOWcGsq7X"
      }
    },
    {
      "cell_type": "code",
      "source": [
        "cd /content/drive/My Drive/AI content"
      ],
      "metadata": {
        "colab": {
          "base_uri": "https://localhost:8080/"
        },
        "id": "9r2zscZsrp22",
        "outputId": "c0ba4c68-feaf-4933-c713-3b2a5bffb0d2"
      },
      "execution_count": null,
      "outputs": [
        {
          "output_type": "stream",
          "name": "stdout",
          "text": [
            "/content/drive/My Drive/AI content\n"
          ]
        }
      ]
    },
    {
      "cell_type": "markdown",
      "source": [
        "####loading in the packages"
      ],
      "metadata": {
        "id": "27z5imq6s5Ut"
      }
    },
    {
      "cell_type": "code",
      "source": [
        "import os,cv2,keras\n",
        "import pandas as pd\n",
        "import matplotlib.pyplot as plt\n",
        "import numpy as np\n",
        "import tensorflow as tf"
      ],
      "metadata": {
        "id": "LuSe3XGvs1bl"
      },
      "execution_count": null,
      "outputs": []
    },
    {
      "cell_type": "markdown",
      "source": [
        "Setting the path and annot to the address of your image folder and Airplanes_Annotations folder."
      ],
      "metadata": {
        "id": "Q4sB4S3etPOh"
      }
    },
    {
      "cell_type": "code",
      "source": [
        "path = \"/content/drive/My Drive/AI content/Images\"\n",
        "annot = \"/content/drive/My Drive/AI content/Airplanes_Annotations\""
      ],
      "metadata": {
        "id": "XqZgXC5FtBXn"
      },
      "execution_count": null,
      "outputs": []
    },
    {
      "cell_type": "markdown",
      "source": [
        "Our airplane dataset contains two parts\n",
        "\n",
        "Image part-> Contain pictures of airplanes\n",
        "\n",
        "\n",
        "Airplanes_Annotations-> Contain information about bounding boxes for the pictures available."
      ],
      "metadata": {
        "id": "jaXYqjplti98"
      }
    },
    {
      "cell_type": "code",
      "source": [
        "Index = input()"
      ],
      "metadata": {
        "id": "GJhAturwuLQE"
      },
      "execution_count": null,
      "outputs": []
    },
    {
      "cell_type": "code",
      "source": [
        "filename = \"airplane_\"+str(Index)+\".jpg\"\n",
        "print(filename)"
      ],
      "metadata": {
        "id": "WI9By_GAtZKp"
      },
      "execution_count": null,
      "outputs": []
    },
    {
      "cell_type": "markdown",
      "source": [
        "In the following code, the first line reads an image file named filename located in the directory specified by path using OpenCV's imread() function. The image is loaded into the img variable.\n",
        "\n",
        "os.path.join() is a function provided by the os module that ensures file path concatenation is done correctly for different operating systems."
      ],
      "metadata": {
        "id": "rtmD9HQYvjYQ"
      }
    },
    {
      "cell_type": "markdown",
      "source": [
        "The second line reads a CSV file named filename.replace(\".jpg\",\".csv\") located in the directory specified by annot using Pandas' read_csv() function. The replace() method replaces the file extension .jpg with .csv in the filename. The data from the CSV file is loaded into the df variable."
      ],
      "metadata": {
        "id": "ptAB_iOovpxg"
      }
    },
    {
      "cell_type": "markdown",
      "source": [
        "The third line displays the image loaded into the img variable using Matplotlib's imshow() function. The image is displayed as a plot in a new window."
      ],
      "metadata": {
        "id": "He4tbSJ2vp1A"
      }
    },
    {
      "cell_type": "code",
      "source": [
        "img = cv2.imread(os.path.join(path,filename))\n",
        "df = pd.read_csv(os.path.join(annot,filename.replace(\".jpg\",\".csv\")))\n",
        "plt.imshow(img)"
      ],
      "metadata": {
        "id": "g9zObp5CuUkh"
      },
      "execution_count": null,
      "outputs": []
    },
    {
      "cell_type": "code",
      "source": [
        "df"
      ],
      "metadata": {
        "id": "dL2GQuWXx7JV"
      },
      "execution_count": null,
      "outputs": []
    },
    {
      "cell_type": "code",
      "source": [
        "df.shape"
      ],
      "metadata": {
        "id": "rla5dmj3wsR4"
      },
      "execution_count": null,
      "outputs": []
    },
    {
      "cell_type": "code",
      "source": [
        "for row in df.iterrows():\n",
        "    x1 = int(row[1][0].split(\" \")[0])\n",
        "    y1 = int(row[1][0].split(\" \")[1])\n",
        "    x2 = int(row[1][0].split(\" \")[2])\n",
        "    y2 = int(row[1][0].split(\" \")[3])\n",
        "    cv2.rectangle(img,(x1,y1),(x2,y2),(255,0,0), 2)\n",
        "plt.figure()\n",
        "plt.imshow(img)"
      ],
      "metadata": {
        "id": "PrGn2WOeuUmz"
      },
      "execution_count": null,
      "outputs": []
    },
    {
      "cell_type": "markdown",
      "source": [
        "#Selective Search"
      ],
      "metadata": {
        "id": "vaabYNGnybUX"
      }
    },
    {
      "cell_type": "code",
      "source": [
        "cv2.setUseOptimized(True);\n",
        "ss = cv2.ximgproc.segmentation.createSelectiveSearchSegmentation()"
      ],
      "metadata": {
        "id": "E4WnXzjpuUpc"
      },
      "execution_count": null,
      "outputs": []
    },
    {
      "cell_type": "markdown",
      "source": [
        "***cv2*** is a Python module that provides interfaces for working with the OpenCV computer vision library.\n",
        "\n",
        "***setUseOptimized(True)*** is a function provided by OpenCV that enables optimization of OpenCV code. When optimization is enabled, OpenCV will attempt to use optimized implementations of certain functions and algorithms to improve performance.\n",
        "\n",
        "***ximgproc*** is a Python module that provides additional functions and algorithms for image processing and computer vision tasks. The ximgproc module is part of OpenCV's extra modules, which contain additional algorithms and functions that are not included in the main OpenCV distribution.\n",
        "\n",
        "***segmentation*** is a submodule of ximgproc that provides functions and classes for image segmentation tasks. Image segmentation is the process of dividing an image into multiple regions or segments, each of which represents a different object or part of the image. The segmentation submodule provides several different algorithms and classes for image segmentation tasks, including Selective Search.\n",
        "\n",
        "***createSelectiveSearchSegmentation()*** is a function provided by OpenCV's ximgproc.segmentation module that creates an instance of a Selective Search segmentation object. Selective Search is an algorithm used in computer vision for object detection and image segmentation. The algorithm works by grouping similar regions of an image together based on color, texture, and other properties, and then gradually merging these regions to form larger segments."
      ],
      "metadata": {
        "id": "mPHaNPKVzBQd"
      }
    },
    {
      "cell_type": "code",
      "source": [
        "ss.setBaseImage(img)\n",
        "ss.switchToSelectiveSearchFast()\n",
        "rects = ss.process()\n",
        "imOut = img.copy()"
      ],
      "metadata": {
        "id": "YFv0XOv_uUrr"
      },
      "execution_count": null,
      "outputs": []
    },
    {
      "cell_type": "markdown",
      "source": [
        "***ss.setBaseImage(im)***: This sets the base image for a Selective Search segmentation object named ss to the image stored in the img variable. The base image is the image that the Selective Search algorithm will operate on."
      ],
      "metadata": {
        "id": "m9kg9Oby09yE"
      }
    },
    {
      "cell_type": "markdown",
      "source": [
        "***ss.switchToSelectiveSearchFast()***: This configures the Selective Search segmentation object to use a fast mode for generating region proposals. This mode is faster than other modes but may result in lower quality region proposals."
      ],
      "metadata": {
        "id": "fBeN8i0P1AAi"
      }
    },
    {
      "cell_type": "markdown",
      "source": [
        "**rects = ss.process()**: This line generates region proposals for the base image using the Selective Search algorithm and the process() method of the ss object. The resulting regions are stored in a variable named rects, which is a list of bounding box coordinates for each proposed region."
      ],
      "metadata": {
        "id": "3ilDHbqF1AC5"
      }
    },
    {
      "cell_type": "markdown",
      "source": [
        "**imOut = img.copy()**: This line creates a copy of the base image stored in the img variable using the copy() method of the img object. This copy will be used later to draw bounding boxes around the proposed regions."
      ],
      "metadata": {
        "id": "DL1miyDe1AGf"
      }
    },
    {
      "cell_type": "code",
      "source": [
        "for i, rect in (enumerate(rects)):\n",
        "    x, y, w, h = rect\n",
        "    cv2.rectangle(imOut, (x, y), (x+w, y+h), (0, 255, 0), 1, cv2.LINE_AA)\n",
        "# plt.figure()\n",
        "plt.imshow(imOut)"
      ],
      "metadata": {
        "id": "YwcB5Hj-uUuS"
      },
      "execution_count": null,
      "outputs": []
    },
    {
      "cell_type": "markdown",
      "source": [
        "**(0, 255, 0)**: The fourth argument is a tuple representing the color of the rectangle in BGR format. In this case, the rectangle will be green because it has a BGR value of (0, 255, 0)."
      ],
      "metadata": {
        "id": "1hFlZt-w3jeU"
      }
    },
    {
      "cell_type": "markdown",
      "source": [
        "***cv2.LINE_AA***: The sixth argument is an optional flag that specifies the type of line to be drawn. In this case, cv2.LINE_AA specifies that an anti-aliased line should be drawn, which will make the edges of the rectangle smoother"
      ],
      "metadata": {
        "id": "8vXgQoRh3jw1"
      }
    },
    {
      "cell_type": "markdown",
      "source": [
        "# Intersection Over Union"
      ],
      "metadata": {
        "id": "OvPwBsrD32qq"
      }
    },
    {
      "cell_type": "markdown",
      "source": [
        "In order to apply Intersection over Union to evaluate an (arbitrary) object detector we need:\n",
        "\n",
        "1. The ground-truth bounding boxes (i.e., the hand labeled bounding boxes from the testing set that specify where in the image our object is). \n",
        "\n",
        "2. The predicted bounding boxes from our model.\n",
        "\n",
        "\n",
        "After getting these two we can find there intersection and union area,whih ultimately gives us our IoU."
      ],
      "metadata": {
        "id": "Ka6DRysQ35m2"
      }
    },
    {
      "cell_type": "markdown",
      "source": [
        "![image.png](data:image/png;base64,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)\n",
        "\n",
        "\n",
        "\n",
        "\n"
      ],
      "metadata": {
        "id": "HTHJ24Vd4PiY"
      }
    },
    {
      "cell_type": "markdown",
      "source": [
        "we now take :\n",
        "1. x1 = x\n",
        "2. y1 = y\n",
        "3. x2 = x+w\n",
        "4. y2 = y+h"
      ],
      "metadata": {
        "id": "pHMtRJQ46Wra"
      }
    },
    {
      "cell_type": "code",
      "source": [
        "def get_iou(bb1, bb2):\n",
        "\n",
        "  # assuring for proper dimension.\n",
        "    assert bb1['x1'] < bb1['x2']\n",
        "    assert bb1['y1'] < bb1['y2']\n",
        "    assert bb2['x1'] < bb2['x2']\n",
        "    assert bb2['y1'] < bb2['y2']\n",
        "\n",
        "  # calculating dimension of common area between these two boxes.\n",
        "    x_left = max(bb1['x1'], bb2['x1'])\n",
        "    y_top = max(bb1['y1'], bb2['y1'])\n",
        "    x_right = min(bb1['x2'], bb2['x2'])\n",
        "    y_bottom = min(bb1['y2'], bb2['y2'])\n",
        "\n",
        "  # if there is no overlap output 0 as intersection area is zero.\n",
        "    if x_right < x_left or y_bottom < y_top:\n",
        "        return 0.0\n",
        "\n",
        "  # calculating intersection area.\n",
        "    intersection_area = (x_right - x_left) * (y_bottom - y_top)\n",
        "\n",
        "  # individual areas of both these bounding boxes.\n",
        "    bb1_area = (bb1['x2'] - bb1['x1']) * (bb1['y2'] - bb1['y1'])\n",
        "    bb2_area = (bb2['x2'] - bb2['x1']) * (bb2['y2'] - bb2['y1'])\n",
        "\n",
        "  # union area = area of bb1_+ area of bb2 - intersection of bb1 and bb2.\n",
        "    iou = intersection_area / float(bb1_area + bb2_area - intersection_area)\n",
        "    assert iou >= 0.0\n",
        "    assert iou <= 1.0\n",
        "    return iou"
      ],
      "metadata": {
        "id": "c43DcThkuUw5"
      },
      "execution_count": null,
      "outputs": []
    },
    {
      "cell_type": "markdown",
      "source": [
        "We use the Python ***assert statement*** to check that the bounding box coordinates are valid."
      ],
      "metadata": {
        "id": "I8gjDDEq455Q"
      }
    },
    {
      "cell_type": "markdown",
      "source": [
        "We also check whether there is any overlap between the two bounding boxes. If there is no overlap, the function returns 0.0 as the IoU is zero."
      ],
      "metadata": {
        "id": "UxuaQc2J49Jo"
      }
    },
    {
      "cell_type": "markdown",
      "source": [
        "# Training Data"
      ],
      "metadata": {
        "id": "-Gb8npvW49Pe"
      }
    },
    {
      "cell_type": "markdown",
      "source": [
        "Training data here is prepared according to following scheme:-\n",
        "1. Those boxes which have an IoU greater than 0.7 are considered as a positive example.\n",
        "2. And boxes with relative low IoU 0.3 are taken to be negative examples.\n",
        "Number of regions taken here is 30 positive and 30 negative of size 224x224."
      ],
      "metadata": {
        "id": "esZvCkLr7uh7"
      }
    },
    {
      "cell_type": "code",
      "source": [
        "train_images=[]\n",
        "train_labels=[]"
      ],
      "metadata": {
        "id": "c7COYmfVuUzP"
      },
      "execution_count": null,
      "outputs": []
    },
    {
      "cell_type": "code",
      "source": [
        "for e,i in enumerate(os.listdir(annot)):\n",
        "    try:\n",
        "        if i.startswith(\"airplane\"):\n",
        "            filename = i.split(\".\")[0]+\".jpg\"\n",
        "            print(e,filename)\n",
        "\n",
        "            # reading the image\n",
        "            image = cv2.imread(os.path.join(path,filename))\n",
        "\n",
        "            # creating a dataframe with all coordinates of the bounding box in the images\n",
        "            df = pd.read_csv(os.path.join(annot,i))\n",
        "\n",
        "            # list for grounf truth bounding boxes\n",
        "            gtvalues=[]\n",
        "            for row in df.iterrows():\n",
        "                x1 = int(row[1][0].split(\" \")[0])\n",
        "                y1 = int(row[1][0].split(\" \")[1])\n",
        "                x2 = int(row[1][0].split(\" \")[2])\n",
        "                y2 = int(row[1][0].split(\" \")[3])\n",
        "                gtvalues.append({\"x1\":x1,\"x2\":x2,\"y1\":y1,\"y2\":y2})\n",
        "\n",
        "            # setting given image as base image\n",
        "            ss.setBaseImage(image)   \n",
        "\n",
        "            # running selective search on bae image\n",
        "            ss.switchToSelectiveSearchFast()    \n",
        "\n",
        "            # processing to get the outputs  \n",
        "            ssresults = ss.process()     \n",
        "            imout = image.copy()   \n",
        "\n",
        "            # Initializing some variables used in the loop\n",
        "            counter = 0\n",
        "            falsecounter = 0\n",
        "            flag = 0\n",
        "            fflag = 0\n",
        "            bflag = 0\n",
        "\n",
        "\n",
        "            for e,result in enumerate(ssresults):\n",
        "\n",
        "                # till 2000 to get top 2000 regions only\n",
        "                if e < 2000 and flag == 0:     \n",
        "                    for gtval in gtvalues:\n",
        "                        x,y,w,h = result\n",
        "\n",
        "                        # calculating IoU for each of the proposed regions\n",
        "                        iou = get_iou(gtval,{\"x1\":x,\"x2\":x+w,\"y1\":y,\"y2\":y+h})  \n",
        "\n",
        "                        # getting only 30 psoitive examples\n",
        "                        if counter < 30:  \n",
        "                            \n",
        "                            # IoU or being positive is 0.7     \n",
        "                            if iou > 0.70:   \n",
        "\n",
        "                                timage = imout[x:x+w,y:y+h]\n",
        "                                resized = cv2.resize(timage, (224,224), interpolation = cv2.INTER_AREA)\n",
        "                                train_images.append(resized)\n",
        "                                train_labels.append(1)\n",
        "                                counter += 1\n",
        "\n",
        "                        else :\n",
        "\n",
        "                            # to insure we have collected all positive examples\n",
        "                            fflag =1      \n",
        "\n",
        "                        # 30 negatve examples are allowed only\n",
        "                        if falsecounter <30:      \n",
        "\n",
        "                            # IoU or being negative is 0.3\n",
        "                            if iou < 0.3:  \n",
        "\n",
        "                                timage = imout[x:x+w,y:y+h]\n",
        "                                resized = cv2.resize(timage, (224,224), interpolation = cv2.INTER_AREA)\n",
        "                                train_images.append(resized)\n",
        "                                train_labels.append(0)\n",
        "                                falsecounter += 1\n",
        "\n",
        "                        else :\n",
        "\n",
        "                            #to ensure we have collected all negative examples\n",
        "                            bflag = 1      \n",
        "\n",
        "                    if fflag == 1 and bflag == 1:  \n",
        "                        print(\"inside\")\n",
        "\n",
        "                        # to signal the complition of data extaction from a particular image\n",
        "                        flag = 1  \n",
        "                        \n",
        "                              \n",
        "    except Exception as e:\n",
        "        print(e)\n",
        "        print(\"error in \"+filename)\n",
        "        continue"
      ],
      "metadata": {
        "id": "VFnLRKPSuU14"
      },
      "execution_count": null,
      "outputs": []
    },
    {
      "cell_type": "markdown",
      "source": [
        "\"***os.listdir***\" lists all the files in the directory"
      ],
      "metadata": {
        "id": "bbiS3Ssz8yOx"
      }
    },
    {
      "cell_type": "code",
      "source": [
        "# conversion of train data into arrays for further training\n",
        "X_new = np.array(train_images)\n",
        "Y_new = np.array(train_labels)"
      ],
      "metadata": {
        "id": "BSnVJgFruU4H"
      },
      "execution_count": null,
      "outputs": []
    },
    {
      "cell_type": "markdown",
      "source": [
        "## Loading the packages"
      ],
      "metadata": {
        "id": "zyMTDTw7Fj66"
      }
    },
    {
      "cell_type": "code",
      "source": [
        "from keras.layers import Dense\n",
        "from keras import Model\n",
        "from keras import optimizers"
      ],
      "metadata": {
        "id": "h_k8B5A6uU6c"
      },
      "execution_count": null,
      "outputs": []
    },
    {
      "cell_type": "markdown",
      "source": [
        "1. ***Dense***: This is a class in Keras that represents a fully connected layer in a neural network. It has a number of neurons (or units) and an activation function. When applied to an input tensor, it performs a matrix multiplication between the weights of the layer and the input, and then applies the activation function to the result.\n",
        "\n",
        "2. ***Model***: This is a class in Keras that represents a neural network model. It takes two arguments: an input tensor and an output tensor, and it can contain any number of layers that are connected to each other. It also has methods for training the model, making predictions, and evaluating the performance of the model.\n",
        "\n",
        "3. **optimizers**: This is a module in Keras that contains various optimization algorithms used for training deep neural networks. It provides classes for different optimization algorithms, such as Stochastic Gradient Descent (SGD), Adam, RMSprop, etc. The optimizer is used to update the weights of the neural network during training, by computing the gradients of the loss function with respect to the weights and adjusting the weights accordingly."
      ],
      "metadata": {
        "id": "XfMYfMD5F2tK"
      }
    },
    {
      "cell_type": "markdown",
      "source": [
        "# Pre-training"
      ],
      "metadata": {
        "id": "NMOme6DAFtnh"
      }
    },
    {
      "cell_type": "markdown",
      "source": [
        "We perform tansfer-learning as pre-training here as we are using VGG16 net which is already trained on Imagenet. We are going to train a binary classifier by making all layers as untrainble except two last. And then we are going to make a new model which will be stacked on last 2nd output layer."
      ],
      "metadata": {
        "id": "KAJFs1QAGPUR"
      }
    },
    {
      "cell_type": "code",
      "source": [
        "vgg = tf.keras.applications.vgg16.VGG16(include_top=True, weights='imagenet', input_tensor=None, input_shape=None, pooling=None, classes=1000)"
      ],
      "metadata": {
        "colab": {
          "base_uri": "https://localhost:8080/"
        },
        "id": "NlLaJGNxFl6f",
        "outputId": "3953159f-1c8b-42f2-beae-576590ae8445"
      },
      "execution_count": null,
      "outputs": [
        {
          "output_type": "stream",
          "name": "stdout",
          "text": [
            "Downloading data from https://storage.googleapis.com/tensorflow/keras-applications/vgg16/vgg16_weights_tf_dim_ordering_tf_kernels.h5\n",
            "553467096/553467096 [==============================] - 8s 0us/step\n"
          ]
        }
      ]
    },
    {
      "cell_type": "code",
      "source": [
        "for layer in vgg.layers[:-2]:\n",
        "  layer.trainable = False"
      ],
      "metadata": {
        "id": "siwZ2Xh0Gtug"
      },
      "execution_count": null,
      "outputs": []
    },
    {
      "cell_type": "code",
      "source": [
        "x = vgg.get_layer('fc2')\n",
        "last_output =  x.output\n",
        "x = tf.keras.layers.Dense(1,activation = 'sigmoid')(last_output)  "
      ],
      "metadata": {
        "id": "7kfbiH3gGvi1"
      },
      "execution_count": null,
      "outputs": []
    },
    {
      "cell_type": "code",
      "source": [
        "model = tf.keras.Model(vgg.input,x)"
      ],
      "metadata": {
        "id": "v08yedbvGy8E"
      },
      "execution_count": null,
      "outputs": []
    },
    {
      "cell_type": "code",
      "source": [
        "model.compile(optimizer = \"adam\", loss = 'binary_crossentropy', metrics = ['acc'])"
      ],
      "metadata": {
        "id": "0tdUGp4OG0JC"
      },
      "execution_count": null,
      "outputs": []
    },
    {
      "cell_type": "code",
      "source": [
        "model.fit(X_new,Y_new,batch_size = 64,epochs = 3, verbose = 1,validation_split=.05,shuffle = True)"
      ],
      "metadata": {
        "id": "n-MJXAIZG4Lm"
      },
      "execution_count": null,
      "outputs": []
    },
    {
      "cell_type": "markdown",
      "source": [
        "# Making new network with SVM"
      ],
      "metadata": {
        "id": "Xx4SP5ZX2nYH"
      }
    },
    {
      "cell_type": "code",
      "source": [
        "svm_image = [];\n",
        "svm_label = [];"
      ],
      "metadata": {
        "id": "1k3OPcSNH1dH"
      },
      "execution_count": null,
      "outputs": []
    },
    {
      "cell_type": "markdown",
      "source": [
        "For svm dataset we considered all ground truth bounding boxes as positive examples and those which were having an IOU less than 0.3 as false examples to increase the preciseness."
      ],
      "metadata": {
        "id": "f4Cpx4w82zQp"
      }
    },
    {
      "cell_type": "code",
      "source": [
        "for e,i in enumerate(os.listdir(annot)):\n",
        "    try:\n",
        "        if i.startswith(\"airplane\"):\n",
        "            filename = i.split(\".\")[0]+\".jpg\"\n",
        "            print(e,filename)\n",
        "            image = cv2.imread(os.path.join(path,filename))\n",
        "            df = pd.read_csv(os.path.join(annot,i))\n",
        "            gtvalues=[]\n",
        "            for row in df.iterrows():\n",
        "                x1 = int(row[1][0].split(\" \")[0])\n",
        "                y1 = int(row[1][0].split(\" \")[1])\n",
        "                x2 = int(row[1][0].split(\" \")[2])\n",
        "                y2 = int(row[1][0].split(\" \")[3]) \n",
        "                gtvalues.append({\"x1\":x1,\"x2\":x2,\"y1\":y1,\"y2\":y2})\n",
        "                timage = image[x1:x2,y1:y2]\n",
        "                resized = cv2.resize(timage, (224,224), interpolation = cv2.INTER_AREA)\n",
        "                svm_image.append(resized)\n",
        "                svm_label.append([0,1])\n",
        "            ss.setBaseImage(image)\n",
        "            ss.switchToSelectiveSearchFast()\n",
        "            ssresults = ss.process()\n",
        "            imout = image.copy()\n",
        "            counter = 0\n",
        "            falsecounter = 0\n",
        "            flag = 0\n",
        "            for e,result in enumerate(ssresults):\n",
        "                if e < 2000 and flag == 0:\n",
        "                    for gtval in gtvalues:\n",
        "                        x,y,w,h = result\n",
        "                        iou = get_iou(gtval,{\"x1\":x,\"x2\":x+w,\"y1\":y,\"y2\":y+h})\n",
        "                        if falsecounter <5:\n",
        "                            if iou < 0.3:\n",
        "                                timage = imout[x:x+w,y:y+h]\n",
        "                                resized = cv2.resize(timage, (224,224), interpolation = cv2.INTER_AREA)\n",
        "                                svm_image.append(resized)\n",
        "                                svm_label.append([1,0])\n",
        "                                falsecounter += 1\n",
        "                        else :\n",
        "                            flag = 1\n",
        "    except Exception as e:\n",
        "        print(e)\n",
        "        print(\"error in \"+filename)\n",
        "        continue"
      ],
      "metadata": {
        "id": "ZWSZlGhk2tYh"
      },
      "execution_count": null,
      "outputs": []
    },
    {
      "cell_type": "code",
      "source": [
        "cd \"/content/drive/My Drive/AI content\""
      ],
      "metadata": {
        "id": "2ab6PUyw2tbE"
      },
      "execution_count": null,
      "outputs": []
    },
    {
      "cell_type": "code",
      "source": [
        "#adding svm to last layer\n",
        "x =model.get_layer('fc2').output\n",
        "Y = tf.keras.layers.Dense(2)(x)\n",
        "final_model = tf.keras.Model(model.input,Y)\n",
        "final_model.compile(loss='hinge',\n",
        "              optimizer='adam',\n",
        "              metrics=['accuracy'])\n",
        "final_model.summary()\n",
        "final_model.load_weights('my_model_weights.h5')"
      ],
      "metadata": {
        "id": "sUB2xUHj2teb"
      },
      "execution_count": null,
      "outputs": []
    },
    {
      "cell_type": "code",
      "source": [
        "hist_final = final_model.fit(np.array(svm_image),np.array(svm_label),batch_size=32,epochs = 20,verbose = 1,shuffle = True,validation_split = 0.05)"
      ],
      "metadata": {
        "id": "eSgKYk-e2-dH"
      },
      "execution_count": null,
      "outputs": []
    },
    {
      "cell_type": "markdown",
      "source": [
        "##Plotting loss and Analysing losses"
      ],
      "metadata": {
        "id": "ZIyjo5No3TtX"
      }
    },
    {
      "cell_type": "code",
      "source": [
        "import matplotlib.pyplot as plt\n",
        "# plt.plot(hist.history[\"acc\"])\n",
        "# plt.plot(hist.history['val_acc'])\n",
        "plt.plot(hist_final.history['loss'])\n",
        "plt.plot(hist_final.history['val_loss'])\n",
        "plt.title(\"model loss\")\n",
        "plt.ylabel(\"Loss\")\n",
        "plt.xlabel(\"Epoch\")\n",
        "plt.legend([\"Loss\",\"Validation Loss\"])\n",
        "plt.show()\n",
        "plt.savefig('chart loss.png')"
      ],
      "metadata": {
        "id": "bhJygMSt2-fn"
      },
      "execution_count": null,
      "outputs": []
    },
    {
      "cell_type": "markdown",
      "source": [
        "# Testing"
      ],
      "metadata": {
        "id": "baIwqzkNG1H5"
      }
    },
    {
      "cell_type": "code",
      "source": [
        "###########  it's time for test a image    ##########\n",
        "image = cv2.imread(os.path.join(path,'airplane_020.jpg'))\n",
        "ss.setBaseImage(image)\n",
        "ss.switchToSelectiveSearchFast()\n",
        "ssresults = ss.process()\n",
        "\n",
        "imOut = image.copy()\n",
        "boxes = []\n",
        "count = 0\n",
        "for e,result in enumerate(ssresults):\n",
        "  if e < 50:\n",
        "    x,y,w,h = result\n",
        "    timage = imout[x:x+w,y:y+h]\n",
        "    resized = cv2.resize(timage, (224,224), interpolation = cv2.INTER_AREA)\n",
        "    resized = np.expand_dims(resized,axis = 0)\n",
        "    out = final_model.predict(resized)\n",
        "    print(e,out)\n",
        "    if(out[0][0]"
      ],
      "metadata": {
        "id": "coeHn6E32-jy"
      },
      "execution_count": null,
      "outputs": []
    }
  ]
}