{
  "cells": [
    {
      "cell_type": "markdown",
      "source": [
        "### Importing libraries and Dataset"
      ],
      "metadata": {
        "id": "cyIgUZb3JfE2"
      }
    },
    {
      "cell_type": "code",
      "execution_count": 1,
      "metadata": {
        "id": "MAEyyp9SiDbg"
      },
      "outputs": [],
      "source": [
        "import numpy as np \n",
        "import pandas as pd \t\n",
        "import matplotlib.pyplot as plt \n",
        "import math\n",
        "import seaborn as sns"
      ]
    },
    {
      "cell_type": "code",
      "execution_count": 2,
      "metadata": {
        "colab": {
          "base_uri": "https://localhost:8080/",
          "height": 475
        },
        "id": "zbXP1ZZXiwIk",
        "outputId": "09e8a33f-ef8f-44d2-9537-73b3c6a84120"
      },
      "outputs": [
        {
          "output_type": "display_data",
          "data": {
            "text/plain": [
              "<IPython.core.display.HTML object>"
            ],
            "text/html": [
              "\n",
              "     <input type=\"file\" id=\"files-4f26a9c0-c9d7-4510-8c8e-4b25ee799557\" name=\"files[]\" multiple disabled\n",
              "        style=\"border:none\" />\n",
              "     <output id=\"result-4f26a9c0-c9d7-4510-8c8e-4b25ee799557\">\n",
              "      Upload widget is only available when the cell has been executed in the\n",
              "      current browser session. Please rerun this cell to enable.\n",
              "      </output>\n",
              "      <script>// Copyright 2017 Google LLC\n",
              "//\n",
              "// Licensed under the Apache License, Version 2.0 (the \"License\");\n",
              "// you may not use this file except in compliance with the License.\n",
              "// You may obtain a copy of the License at\n",
              "//\n",
              "//      http://www.apache.org/licenses/LICENSE-2.0\n",
              "//\n",
              "// Unless required by applicable law or agreed to in writing, software\n",
              "// distributed under the License is distributed on an \"AS IS\" BASIS,\n",
              "// WITHOUT WARRANTIES OR CONDITIONS OF ANY KIND, either express or implied.\n",
              "// See the License for the specific language governing permissions and\n",
              "// limitations under the License.\n",
              "\n",
              "/**\n",
              " * @fileoverview Helpers for google.colab Python module.\n",
              " */\n",
              "(function(scope) {\n",
              "function span(text, styleAttributes = {}) {\n",
              "  const element = document.createElement('span');\n",
              "  element.textContent = text;\n",
              "  for (const key of Object.keys(styleAttributes)) {\n",
              "    element.style[key] = styleAttributes[key];\n",
              "  }\n",
              "  return element;\n",
              "}\n",
              "\n",
              "// Max number of bytes which will be uploaded at a time.\n",
              "const MAX_PAYLOAD_SIZE = 100 * 1024;\n",
              "\n",
              "function _uploadFiles(inputId, outputId) {\n",
              "  const steps = uploadFilesStep(inputId, outputId);\n",
              "  const outputElement = document.getElementById(outputId);\n",
              "  // Cache steps on the outputElement to make it available for the next call\n",
              "  // to uploadFilesContinue from Python.\n",
              "  outputElement.steps = steps;\n",
              "\n",
              "  return _uploadFilesContinue(outputId);\n",
              "}\n",
              "\n",
              "// This is roughly an async generator (not supported in the browser yet),\n",
              "// where there are multiple asynchronous steps and the Python side is going\n",
              "// to poll for completion of each step.\n",
              "// This uses a Promise to block the python side on completion of each step,\n",
              "// then passes the result of the previous step as the input to the next step.\n",
              "function _uploadFilesContinue(outputId) {\n",
              "  const outputElement = document.getElementById(outputId);\n",
              "  const steps = outputElement.steps;\n",
              "\n",
              "  const next = steps.next(outputElement.lastPromiseValue);\n",
              "  return Promise.resolve(next.value.promise).then((value) => {\n",
              "    // Cache the last promise value to make it available to the next\n",
              "    // step of the generator.\n",
              "    outputElement.lastPromiseValue = value;\n",
              "    return next.value.response;\n",
              "  });\n",
              "}\n",
              "\n",
              "/**\n",
              " * Generator function which is called between each async step of the upload\n",
              " * process.\n",
              " * @param {string} inputId Element ID of the input file picker element.\n",
              " * @param {string} outputId Element ID of the output display.\n",
              " * @return {!Iterable<!Object>} Iterable of next steps.\n",
              " */\n",
              "function* uploadFilesStep(inputId, outputId) {\n",
              "  const inputElement = document.getElementById(inputId);\n",
              "  inputElement.disabled = false;\n",
              "\n",
              "  const outputElement = document.getElementById(outputId);\n",
              "  outputElement.innerHTML = '';\n",
              "\n",
              "  const pickedPromise = new Promise((resolve) => {\n",
              "    inputElement.addEventListener('change', (e) => {\n",
              "      resolve(e.target.files);\n",
              "    });\n",
              "  });\n",
              "\n",
              "  const cancel = document.createElement('button');\n",
              "  inputElement.parentElement.appendChild(cancel);\n",
              "  cancel.textContent = 'Cancel upload';\n",
              "  const cancelPromise = new Promise((resolve) => {\n",
              "    cancel.onclick = () => {\n",
              "      resolve(null);\n",
              "    };\n",
              "  });\n",
              "\n",
              "  // Wait for the user to pick the files.\n",
              "  const files = yield {\n",
              "    promise: Promise.race([pickedPromise, cancelPromise]),\n",
              "    response: {\n",
              "      action: 'starting',\n",
              "    }\n",
              "  };\n",
              "\n",
              "  cancel.remove();\n",
              "\n",
              "  // Disable the input element since further picks are not allowed.\n",
              "  inputElement.disabled = true;\n",
              "\n",
              "  if (!files) {\n",
              "    return {\n",
              "      response: {\n",
              "        action: 'complete',\n",
              "      }\n",
              "    };\n",
              "  }\n",
              "\n",
              "  for (const file of files) {\n",
              "    const li = document.createElement('li');\n",
              "    li.append(span(file.name, {fontWeight: 'bold'}));\n",
              "    li.append(span(\n",
              "        `(${file.type || 'n/a'}) - ${file.size} bytes, ` +\n",
              "        `last modified: ${\n",
              "            file.lastModifiedDate ? file.lastModifiedDate.toLocaleDateString() :\n",
              "                                    'n/a'} - `));\n",
              "    const percent = span('0% done');\n",
              "    li.appendChild(percent);\n",
              "\n",
              "    outputElement.appendChild(li);\n",
              "\n",
              "    const fileDataPromise = new Promise((resolve) => {\n",
              "      const reader = new FileReader();\n",
              "      reader.onload = (e) => {\n",
              "        resolve(e.target.result);\n",
              "      };\n",
              "      reader.readAsArrayBuffer(file);\n",
              "    });\n",
              "    // Wait for the data to be ready.\n",
              "    let fileData = yield {\n",
              "      promise: fileDataPromise,\n",
              "      response: {\n",
              "        action: 'continue',\n",
              "      }\n",
              "    };\n",
              "\n",
              "    // Use a chunked sending to avoid message size limits. See b/62115660.\n",
              "    let position = 0;\n",
              "    do {\n",
              "      const length = Math.min(fileData.byteLength - position, MAX_PAYLOAD_SIZE);\n",
              "      const chunk = new Uint8Array(fileData, position, length);\n",
              "      position += length;\n",
              "\n",
              "      const base64 = btoa(String.fromCharCode.apply(null, chunk));\n",
              "      yield {\n",
              "        response: {\n",
              "          action: 'append',\n",
              "          file: file.name,\n",
              "          data: base64,\n",
              "        },\n",
              "      };\n",
              "\n",
              "      let percentDone = fileData.byteLength === 0 ?\n",
              "          100 :\n",
              "          Math.round((position / fileData.byteLength) * 100);\n",
              "      percent.textContent = `${percentDone}% done`;\n",
              "\n",
              "    } while (position < fileData.byteLength);\n",
              "  }\n",
              "\n",
              "  // All done.\n",
              "  yield {\n",
              "    response: {\n",
              "      action: 'complete',\n",
              "    }\n",
              "  };\n",
              "}\n",
              "\n",
              "scope.google = scope.google || {};\n",
              "scope.google.colab = scope.google.colab || {};\n",
              "scope.google.colab._files = {\n",
              "  _uploadFiles,\n",
              "  _uploadFilesContinue,\n",
              "};\n",
              "})(self);\n",
              "</script> "
            ]
          },
          "metadata": {}
        },
        {
          "output_type": "stream",
          "name": "stdout",
          "text": [
            "Saving kaggle.json to kaggle.json\n",
            "ref                                                             title                                               size  lastUpdated          downloadCount  voteCount  usabilityRating  \n",
            "--------------------------------------------------------------  -------------------------------------------------  -----  -------------------  -------------  ---------  ---------------  \n",
            "themrityunjaypathak/covid-cases-and-deaths-worldwide            Covid Cases and Deaths WorldWide                     8KB  2023-02-01 12:22:51           3382         87  1.0              \n",
            "ahsan81/hotel-reservations-classification-dataset               Hotel Reservations Dataset                         480KB  2023-01-04 12:50:31          12392        391  1.0              \n",
            "datascientistanna/customers-dataset                             Shop Customer Data                                  23KB  2023-02-07 18:42:21           2453         69  1.0              \n",
            "themrityunjaypathak/most-subscribed-1000-youtube-channels       Most Subscribed 1000 Youtube Channels               28KB  2023-01-21 14:42:05           4288        118  1.0              \n",
            "anas123siddiqui/laptops                                         Laptops                                             44KB  2023-02-05 18:11:41           1561         46  1.0              \n",
            "googleai/musiccaps                                              MusicCaps                                          793KB  2023-01-25 09:25:48           2894        244  0.9411765        \n",
            "michelhatab/hotel-reviews-bookingcom                            Hotel Reviews Booking.com                           83KB  2023-02-07 13:38:17            951         29  1.0              \n",
            "karkavelrajaj/amazon-sales-dataset                              Amazon Sales Dataset                                 2MB  2023-01-17 06:21:15           5073        105  1.0              \n",
            "senapatirajesh/netflix-tv-shows-and-movies                      Latest Netflix TV shows and movies                   1MB  2023-01-14 17:03:12           4594        122  0.9411765        \n",
            "marshuu/best-artists-dataset-grammys-billboard-rs               Greatest artists dataset Grammys | Billboard | RS    8KB  2023-01-25 20:03:22            957         36  1.0              \n",
            "kreeshrajani/used-car-price-dataset                             Used car price dataset                              34KB  2023-01-25 18:19:17            995         26  1.0              \n",
            "thedevastator/higher-education-predictors-of-student-retention  Predict students' dropout and academic success      87KB  2023-01-03 09:18:54           4714        113  1.0              \n",
            "salimwid/global-billionaire-wealth-and-sources-2002-2023        Global Billionaire Wealth & Sources [2002-2023]      3MB  2023-02-04 08:32:48            681         27  1.0              \n",
            "thedevastator/medical-student-mental-health                     Medical Student Mental Health                       19KB  2023-01-25 01:00:14           1761         49  1.0              \n",
            "thedevastator/netflix-top-rated-movies-and-tv-shows-2020-2022   Netflix Top Rated Movies and TV Shows                2MB  2023-01-17 03:47:40           1912         44  1.0              \n",
            "abhishek14398/salary-dataset-simple-linear-regression           Salary Dataset - Simple linear regression           457B  2023-01-10 03:55:40           3241         64  1.0              \n",
            "baraazaid/how-long-to-beat-video-games                          Video Games Playtime                                 5MB  2023-02-06 10:39:58            910         37  1.0              \n",
            "nitishsharma01/olympics-124-years-datasettill-2020              Olympics 124 years Dataset(till 2020)                5MB  2023-02-01 09:00:49           1691         36  1.0              \n",
            "thedevastator/predicting-credit-card-customer-attrition-with-m  Predicting Credit Card Customer Segmentation       379KB  2023-01-15 15:27:38           2106         63  1.0              \n",
            "mrsohelrana/facebook-metrics                                    Facebook metrics Dataset                            15KB  2023-02-08 09:18:48            622         29  0.7058824        \n"
          ]
        }
      ],
      "source": [
        "! pip install -q kaggle\n",
        "from google.colab import files\n",
        "files.upload()\n",
        "! mkdir ~/.kaggle\n",
        "! cp kaggle.json ~/.kaggle/\n",
        "! chmod 600 ~/.kaggle/kaggle.json\n",
        "! kaggle datasets list"
      ]
    },
    {
      "cell_type": "code",
      "execution_count": 3,
      "metadata": {
        "colab": {
          "base_uri": "https://localhost:8080/"
        },
        "id": "G0gmiibXlS6z",
        "outputId": "f3eab1fc-d45e-4b54-d3e5-5a527647d9ee"
      },
      "outputs": [
        {
          "output_type": "stream",
          "name": "stdout",
          "text": [
            "Downloading breast-cancer-prediction-dataset.zip to /content\n",
            "\r  0% 0.00/7.92k [00:00<?, ?B/s]\n",
            "\r100% 7.92k/7.92k [00:00<00:00, 6.07MB/s]\n"
          ]
        }
      ],
      "source": [
        "! kaggle datasets download -d merishnasuwal/breast-cancer-prediction-dataset"
      ]
    },
    {
      "cell_type": "code",
      "execution_count": 4,
      "metadata": {
        "colab": {
          "base_uri": "https://localhost:8080/"
        },
        "id": "d1HMY6t-kR2n",
        "outputId": "7173e834-83e9-4e21-ce69-65f1dfd1d7a4"
      },
      "outputs": [
        {
          "output_type": "stream",
          "name": "stdout",
          "text": [
            "Archive:  breast-cancer-prediction-dataset.zip\n",
            "  inflating: Breast_cancer_data.csv  \n"
          ]
        }
      ],
      "source": [
        "! unzip breast-cancer-prediction-dataset.zip"
      ]
    },
    {
      "cell_type": "code",
      "execution_count": 15,
      "metadata": {
        "id": "jSMnYnuxoVq7",
        "colab": {
          "base_uri": "https://localhost:8080/",
          "height": 363
        },
        "outputId": "86eb4d66-46f4-4d06-88f2-9f0b16198d98"
      },
      "outputs": [
        {
          "output_type": "execute_result",
          "data": {
            "text/plain": [
              "   mean_radius  mean_texture  mean_perimeter  mean_area  mean_smoothness  \\\n",
              "0        17.99         10.38          122.80     1001.0          0.11840   \n",
              "1        20.57         17.77          132.90     1326.0          0.08474   \n",
              "2        19.69         21.25          130.00     1203.0          0.10960   \n",
              "3        11.42         20.38           77.58      386.1          0.14250   \n",
              "4        20.29         14.34          135.10     1297.0          0.10030   \n",
              "5        12.45         15.70           82.57      477.1          0.12780   \n",
              "6        18.25         19.98          119.60     1040.0          0.09463   \n",
              "7        13.71         20.83           90.20      577.9          0.11890   \n",
              "8        13.00         21.82           87.50      519.8          0.12730   \n",
              "9        12.46         24.04           83.97      475.9          0.11860   \n",
              "\n",
              "   diagnosis  \n",
              "0          0  \n",
              "1          0  \n",
              "2          0  \n",
              "3          0  \n",
              "4          0  \n",
              "5          0  \n",
              "6          0  \n",
              "7          0  \n",
              "8          0  \n",
              "9          0  "
            ],
            "text/html": [
              "\n",
              "  <div id=\"df-7968ac7d-c3fe-48fb-8afc-9b09ffb63473\">\n",
              "    <div class=\"colab-df-container\">\n",
              "      <div>\n",
              "<style scoped>\n",
              "    .dataframe tbody tr th:only-of-type {\n",
              "        vertical-align: middle;\n",
              "    }\n",
              "\n",
              "    .dataframe tbody tr th {\n",
              "        vertical-align: top;\n",
              "    }\n",
              "\n",
              "    .dataframe thead th {\n",
              "        text-align: right;\n",
              "    }\n",
              "</style>\n",
              "<table border=\"1\" class=\"dataframe\">\n",
              "  <thead>\n",
              "    <tr style=\"text-align: right;\">\n",
              "      <th></th>\n",
              "      <th>mean_radius</th>\n",
              "      <th>mean_texture</th>\n",
              "      <th>mean_perimeter</th>\n",
              "      <th>mean_area</th>\n",
              "      <th>mean_smoothness</th>\n",
              "      <th>diagnosis</th>\n",
              "    </tr>\n",
              "  </thead>\n",
              "  <tbody>\n",
              "    <tr>\n",
              "      <th>0</th>\n",
              "      <td>17.99</td>\n",
              "      <td>10.38</td>\n",
              "      <td>122.80</td>\n",
              "      <td>1001.0</td>\n",
              "      <td>0.11840</td>\n",
              "      <td>0</td>\n",
              "    </tr>\n",
              "    <tr>\n",
              "      <th>1</th>\n",
              "      <td>20.57</td>\n",
              "      <td>17.77</td>\n",
              "      <td>132.90</td>\n",
              "      <td>1326.0</td>\n",
              "      <td>0.08474</td>\n",
              "      <td>0</td>\n",
              "    </tr>\n",
              "    <tr>\n",
              "      <th>2</th>\n",
              "      <td>19.69</td>\n",
              "      <td>21.25</td>\n",
              "      <td>130.00</td>\n",
              "      <td>1203.0</td>\n",
              "      <td>0.10960</td>\n",
              "      <td>0</td>\n",
              "    </tr>\n",
              "    <tr>\n",
              "      <th>3</th>\n",
              "      <td>11.42</td>\n",
              "      <td>20.38</td>\n",
              "      <td>77.58</td>\n",
              "      <td>386.1</td>\n",
              "      <td>0.14250</td>\n",
              "      <td>0</td>\n",
              "    </tr>\n",
              "    <tr>\n",
              "      <th>4</th>\n",
              "      <td>20.29</td>\n",
              "      <td>14.34</td>\n",
              "      <td>135.10</td>\n",
              "      <td>1297.0</td>\n",
              "      <td>0.10030</td>\n",
              "      <td>0</td>\n",
              "    </tr>\n",
              "    <tr>\n",
              "      <th>5</th>\n",
              "      <td>12.45</td>\n",
              "      <td>15.70</td>\n",
              "      <td>82.57</td>\n",
              "      <td>477.1</td>\n",
              "      <td>0.12780</td>\n",
              "      <td>0</td>\n",
              "    </tr>\n",
              "    <tr>\n",
              "      <th>6</th>\n",
              "      <td>18.25</td>\n",
              "      <td>19.98</td>\n",
              "      <td>119.60</td>\n",
              "      <td>1040.0</td>\n",
              "      <td>0.09463</td>\n",
              "      <td>0</td>\n",
              "    </tr>\n",
              "    <tr>\n",
              "      <th>7</th>\n",
              "      <td>13.71</td>\n",
              "      <td>20.83</td>\n",
              "      <td>90.20</td>\n",
              "      <td>577.9</td>\n",
              "      <td>0.11890</td>\n",
              "      <td>0</td>\n",
              "    </tr>\n",
              "    <tr>\n",
              "      <th>8</th>\n",
              "      <td>13.00</td>\n",
              "      <td>21.82</td>\n",
              "      <td>87.50</td>\n",
              "      <td>519.8</td>\n",
              "      <td>0.12730</td>\n",
              "      <td>0</td>\n",
              "    </tr>\n",
              "    <tr>\n",
              "      <th>9</th>\n",
              "      <td>12.46</td>\n",
              "      <td>24.04</td>\n",
              "      <td>83.97</td>\n",
              "      <td>475.9</td>\n",
              "      <td>0.11860</td>\n",
              "      <td>0</td>\n",
              "    </tr>\n",
              "  </tbody>\n",
              "</table>\n",
              "</div>\n",
              "      <button class=\"colab-df-convert\" onclick=\"convertToInteractive('df-7968ac7d-c3fe-48fb-8afc-9b09ffb63473')\"\n",
              "              title=\"Convert this dataframe to an interactive table.\"\n",
              "              style=\"display:none;\">\n",
              "        \n",
              "  <svg xmlns=\"http://www.w3.org/2000/svg\" height=\"24px\"viewBox=\"0 0 24 24\"\n",
              "       width=\"24px\">\n",
              "    <path d=\"M0 0h24v24H0V0z\" fill=\"none\"/>\n",
              "    <path d=\"M18.56 5.44l.94 2.06.94-2.06 2.06-.94-2.06-.94-.94-2.06-.94 2.06-2.06.94zm-11 1L8.5 8.5l.94-2.06 2.06-.94-2.06-.94L8.5 2.5l-.94 2.06-2.06.94zm10 10l.94 2.06.94-2.06 2.06-.94-2.06-.94-.94-2.06-.94 2.06-2.06.94z\"/><path d=\"M17.41 7.96l-1.37-1.37c-.4-.4-.92-.59-1.43-.59-.52 0-1.04.2-1.43.59L10.3 9.45l-7.72 7.72c-.78.78-.78 2.05 0 2.83L4 21.41c.39.39.9.59 1.41.59.51 0 1.02-.2 1.41-.59l7.78-7.78 2.81-2.81c.8-.78.8-2.07 0-2.86zM5.41 20L4 18.59l7.72-7.72 1.47 1.35L5.41 20z\"/>\n",
              "  </svg>\n",
              "      </button>\n",
              "      \n",
              "  <style>\n",
              "    .colab-df-container {\n",
              "      display:flex;\n",
              "      flex-wrap:wrap;\n",
              "      gap: 12px;\n",
              "    }\n",
              "\n",
              "    .colab-df-convert {\n",
              "      background-color: #E8F0FE;\n",
              "      border: none;\n",
              "      border-radius: 50%;\n",
              "      cursor: pointer;\n",
              "      display: none;\n",
              "      fill: #1967D2;\n",
              "      height: 32px;\n",
              "      padding: 0 0 0 0;\n",
              "      width: 32px;\n",
              "    }\n",
              "\n",
              "    .colab-df-convert:hover {\n",
              "      background-color: #E2EBFA;\n",
              "      box-shadow: 0px 1px 2px rgba(60, 64, 67, 0.3), 0px 1px 3px 1px rgba(60, 64, 67, 0.15);\n",
              "      fill: #174EA6;\n",
              "    }\n",
              "\n",
              "    [theme=dark] .colab-df-convert {\n",
              "      background-color: #3B4455;\n",
              "      fill: #D2E3FC;\n",
              "    }\n",
              "\n",
              "    [theme=dark] .colab-df-convert:hover {\n",
              "      background-color: #434B5C;\n",
              "      box-shadow: 0px 1px 3px 1px rgba(0, 0, 0, 0.15);\n",
              "      filter: drop-shadow(0px 1px 2px rgba(0, 0, 0, 0.3));\n",
              "      fill: #FFFFFF;\n",
              "    }\n",
              "  </style>\n",
              "\n",
              "      <script>\n",
              "        const buttonEl =\n",
              "          document.querySelector('#df-7968ac7d-c3fe-48fb-8afc-9b09ffb63473 button.colab-df-convert');\n",
              "        buttonEl.style.display =\n",
              "          google.colab.kernel.accessAllowed ? 'block' : 'none';\n",
              "\n",
              "        async function convertToInteractive(key) {\n",
              "          const element = document.querySelector('#df-7968ac7d-c3fe-48fb-8afc-9b09ffb63473');\n",
              "          const dataTable =\n",
              "            await google.colab.kernel.invokeFunction('convertToInteractive',\n",
              "                                                     [key], {});\n",
              "          if (!dataTable) return;\n",
              "\n",
              "          const docLinkHtml = 'Like what you see? Visit the ' +\n",
              "            '<a target=\"_blank\" href=https://colab.research.google.com/notebooks/data_table.ipynb>data table notebook</a>'\n",
              "            + ' to learn more about interactive tables.';\n",
              "          element.innerHTML = '';\n",
              "          dataTable['output_type'] = 'display_data';\n",
              "          await google.colab.output.renderOutput(dataTable, element);\n",
              "          const docLink = document.createElement('div');\n",
              "          docLink.innerHTML = docLinkHtml;\n",
              "          element.appendChild(docLink);\n",
              "        }\n",
              "      </script>\n",
              "    </div>\n",
              "  </div>\n",
              "  "
            ]
          },
          "metadata": {},
          "execution_count": 15
        }
      ],
      "source": [
        "data = pd.read_csv(\"Breast_cancer_data.csv\")\n",
        "data.head(10)"
      ]
    },
    {
      "cell_type": "markdown",
      "source": [
        "## Data Analysis"
      ],
      "metadata": {
        "id": "S2KoHFXz7sRt"
      }
    },
    {
      "cell_type": "code",
      "source": [
        "data[\"diagnosis\"].hist()"
      ],
      "metadata": {
        "colab": {
          "base_uri": "https://localhost:8080/",
          "height": 282
        },
        "id": "TdS-_aYm7jeE",
        "outputId": "631dc84a-7e62-44a3-f761-90e18a3a12e2"
      },
      "execution_count": 16,
      "outputs": [
        {
          "output_type": "execute_result",
          "data": {
            "text/plain": [
              "<matplotlib.axes._subplots.AxesSubplot at 0x7f55c07911c0>"
            ]
          },
          "metadata": {},
          "execution_count": 16
        },
        {
          "output_type": "display_data",
          "data": {
            "text/plain": [
              "<Figure size 432x288 with 1 Axes>"
            ],
            "image/png": "[encoded data removed]"
          },
          "metadata": {
            "needs_background": "light"
          }
        }
      ]
    },
    {
      "cell_type": "markdown",
      "source": [
        "The following steps tells us which columns are independent an which are not.\n",
        "\n",
        "Since for naive bayes classifier needs independent variables, we chose one of the dependent."
      ],
      "metadata": {
        "id": "P6gvueXF8fht"
      }
    },
    {
      "cell_type": "code",
      "source": [
        "corr = data.iloc[:,:-1].corr(method=\"pearson\")\n",
        "\n",
        "cmap = sns.diverging_palette(250,354,80,60,center='dark',as_cmap=True)\n",
        "sns.heatmap(corr, vmax=1, vmin=-.5, cmap=cmap, square=True, linewidths=.2)"
      ],
      "metadata": {
        "colab": {
          "base_uri": "https://localhost:8080/",
          "height": 370
        },
        "id": "uFW_-fxh7xFy",
        "outputId": "a4f7d1a3-9afc-4fbf-9da2-4b4e09f181f3"
      },
      "execution_count": 17,
      "outputs": [
        {
          "output_type": "execute_result",
          "data": {
            "text/plain": [
              "<matplotlib.axes._subplots.AxesSubplot at 0x7f55c057ea00>"
            ]
          },
          "metadata": {},
          "execution_count": 17
        },
        {
          "output_type": "display_data",
          "data": {
            "text/plain": [
              "<Figure size 432x288 with 2 Axes>"
            ],
            "image/png": "[encoded data removed]"
          },
          "metadata": {
            "needs_background": "light"
          }
        }
      ]
    },
    {
      "cell_type": "code",
      "source": [
        "data = data[[\"mean_radius\", \"mean_texture\", \"mean_smoothness\", \"diagnosis\"]]\n",
        "data.head(10)"
      ],
      "metadata": {
        "colab": {
          "base_uri": "https://localhost:8080/",
          "height": 363
        },
        "id": "QsDl8lQc8G02",
        "outputId": "e0d0aac9-fbbb-4166-f5da-ae3f1ff7752b"
      },
      "execution_count": 27,
      "outputs": [
        {
          "output_type": "execute_result",
          "data": {
            "text/plain": [
              "   mean_radius  mean_texture  mean_smoothness  diagnosis\n",
              "0        17.99         10.38          0.11840          0\n",
              "1        20.57         17.77          0.08474          0\n",
              "2        19.69         21.25          0.10960          0\n",
              "3        11.42         20.38          0.14250          0\n",
              "4        20.29         14.34          0.10030          0\n",
              "5        12.45         15.70          0.12780          0\n",
              "6        18.25         19.98          0.09463          0\n",
              "7        13.71         20.83          0.11890          0\n",
              "8        13.00         21.82          0.12730          0\n",
              "9        12.46         24.04          0.11860          0"
            ],
            "text/html": [
              "\n",
              "  <div id=\"df-b78c665e-8135-444f-9037-b74a95835fde\">\n",
              "    <div class=\"colab-df-container\">\n",
              "      <div>\n",
              "<style scoped>\n",
              "    .dataframe tbody tr th:only-of-type {\n",
              "        vertical-align: middle;\n",
              "    }\n",
              "\n",
              "    .dataframe tbody tr th {\n",
              "        vertical-align: top;\n",
              "    }\n",
              "\n",
              "    .dataframe thead th {\n",
              "        text-align: right;\n",
              "    }\n",
              "</style>\n",
              "<table border=\"1\" class=\"dataframe\">\n",
              "  <thead>\n",
              "    <tr style=\"text-align: right;\">\n",
              "      <th></th>\n",
              "      <th>mean_radius</th>\n",
              "      <th>mean_texture</th>\n",
              "      <th>mean_smoothness</th>\n",
              "      <th>diagnosis</th>\n",
              "    </tr>\n",
              "  </thead>\n",
              "  <tbody>\n",
              "    <tr>\n",
              "      <th>0</th>\n",
              "      <td>17.99</td>\n",
              "      <td>10.38</td>\n",
              "      <td>0.11840</td>\n",
              "      <td>0</td>\n",
              "    </tr>\n",
              "    <tr>\n",
              "      <th>1</th>\n",
              "      <td>20.57</td>\n",
              "      <td>17.77</td>\n",
              "      <td>0.08474</td>\n",
              "      <td>0</td>\n",
              "    </tr>\n",
              "    <tr>\n",
              "      <th>2</th>\n",
              "      <td>19.69</td>\n",
              "      <td>21.25</td>\n",
              "      <td>0.10960</td>\n",
              "      <td>0</td>\n",
              "    </tr>\n",
              "    <tr>\n",
              "      <th>3</th>\n",
              "      <td>11.42</td>\n",
              "      <td>20.38</td>\n",
              "      <td>0.14250</td>\n",
              "      <td>0</td>\n",
              "    </tr>\n",
              "    <tr>\n",
              "      <th>4</th>\n",
              "      <td>20.29</td>\n",
              "      <td>14.34</td>\n",
              "      <td>0.10030</td>\n",
              "      <td>0</td>\n",
              "    </tr>\n",
              "    <tr>\n",
              "      <th>5</th>\n",
              "      <td>12.45</td>\n",
              "      <td>15.70</td>\n",
              "      <td>0.12780</td>\n",
              "      <td>0</td>\n",
              "    </tr>\n",
              "    <tr>\n",
              "      <th>6</th>\n",
              "      <td>18.25</td>\n",
              "      <td>19.98</td>\n",
              "      <td>0.09463</td>\n",
              "      <td>0</td>\n",
              "    </tr>\n",
              "    <tr>\n",
              "      <th>7</th>\n",
              "      <td>13.71</td>\n",
              "      <td>20.83</td>\n",
              "      <td>0.11890</td>\n",
              "      <td>0</td>\n",
              "    </tr>\n",
              "    <tr>\n",
              "      <th>8</th>\n",
              "      <td>13.00</td>\n",
              "      <td>21.82</td>\n",
              "      <td>0.12730</td>\n",
              "      <td>0</td>\n",
              "    </tr>\n",
              "    <tr>\n",
              "      <th>9</th>\n",
              "      <td>12.46</td>\n",
              "      <td>24.04</td>\n",
              "      <td>0.11860</td>\n",
              "      <td>0</td>\n",
              "    </tr>\n",
              "  </tbody>\n",
              "</table>\n",
              "</div>\n",
              "      <button class=\"colab-df-convert\" onclick=\"convertToInteractive('df-b78c665e-8135-444f-9037-b74a95835fde')\"\n",
              "              title=\"Convert this dataframe to an interactive table.\"\n",
              "              style=\"display:none;\">\n",
              "        \n",
              "  <svg xmlns=\"http://www.w3.org/2000/svg\" height=\"24px\"viewBox=\"0 0 24 24\"\n",
              "       width=\"24px\">\n",
              "    <path d=\"M0 0h24v24H0V0z\" fill=\"none\"/>\n",
              "    <path d=\"M18.56 5.44l.94 2.06.94-2.06 2.06-.94-2.06-.94-.94-2.06-.94 2.06-2.06.94zm-11 1L8.5 8.5l.94-2.06 2.06-.94-2.06-.94L8.5 2.5l-.94 2.06-2.06.94zm10 10l.94 2.06.94-2.06 2.06-.94-2.06-.94-.94-2.06-.94 2.06-2.06.94z\"/><path d=\"M17.41 7.96l-1.37-1.37c-.4-.4-.92-.59-1.43-.59-.52 0-1.04.2-1.43.59L10.3 9.45l-7.72 7.72c-.78.78-.78 2.05 0 2.83L4 21.41c.39.39.9.59 1.41.59.51 0 1.02-.2 1.41-.59l7.78-7.78 2.81-2.81c.8-.78.8-2.07 0-2.86zM5.41 20L4 18.59l7.72-7.72 1.47 1.35L5.41 20z\"/>\n",
              "  </svg>\n",
              "      </button>\n",
              "      \n",
              "  <style>\n",
              "    .colab-df-container {\n",
              "      display:flex;\n",
              "      flex-wrap:wrap;\n",
              "      gap: 12px;\n",
              "    }\n",
              "\n",
              "    .colab-df-convert {\n",
              "      background-color: #E8F0FE;\n",
              "      border: none;\n",
              "      border-radius: 50%;\n",
              "      cursor: pointer;\n",
              "      display: none;\n",
              "      fill: #1967D2;\n",
              "      height: 32px;\n",
              "      padding: 0 0 0 0;\n",
              "      width: 32px;\n",
              "    }\n",
              "\n",
              "    .colab-df-convert:hover {\n",
              "      background-color: #E2EBFA;\n",
              "      box-shadow: 0px 1px 2px rgba(60, 64, 67, 0.3), 0px 1px 3px 1px rgba(60, 64, 67, 0.15);\n",
              "      fill: #174EA6;\n",
              "    }\n",
              "\n",
              "    [theme=dark] .colab-df-convert {\n",
              "      background-color: #3B4455;\n",
              "      fill: #D2E3FC;\n",
              "    }\n",
              "\n",
              "    [theme=dark] .colab-df-convert:hover {\n",
              "      background-color: #434B5C;\n",
              "      box-shadow: 0px 1px 3px 1px rgba(0, 0, 0, 0.15);\n",
              "      filter: drop-shadow(0px 1px 2px rgba(0, 0, 0, 0.3));\n",
              "      fill: #FFFFFF;\n",
              "    }\n",
              "  </style>\n",
              "\n",
              "      <script>\n",
              "        const buttonEl =\n",
              "          document.querySelector('#df-b78c665e-8135-444f-9037-b74a95835fde button.colab-df-convert');\n",
              "        buttonEl.style.display =\n",
              "          google.colab.kernel.accessAllowed ? 'block' : 'none';\n",
              "\n",
              "        async function convertToInteractive(key) {\n",
              "          const element = document.querySelector('#df-b78c665e-8135-444f-9037-b74a95835fde');\n",
              "          const dataTable =\n",
              "            await google.colab.kernel.invokeFunction('convertToInteractive',\n",
              "                                                     [key], {});\n",
              "          if (!dataTable) return;\n",
              "\n",
              "          const docLinkHtml = 'Like what you see? Visit the ' +\n",
              "            '<a target=\"_blank\" href=https://colab.research.google.com/notebooks/data_table.ipynb>data table notebook</a>'\n",
              "            + ' to learn more about interactive tables.';\n",
              "          element.innerHTML = '';\n",
              "          dataTable['output_type'] = 'display_data';\n",
              "          await google.colab.output.renderOutput(dataTable, element);\n",
              "          const docLink = document.createElement('div');\n",
              "          docLink.innerHTML = docLinkHtml;\n",
              "          element.appendChild(docLink);\n",
              "        }\n",
              "      </script>\n",
              "    </div>\n",
              "  </div>\n",
              "  "
            ]
          },
          "metadata": {},
          "execution_count": 27
        }
      ]
    },
    {
      "cell_type": "markdown",
      "source": [
        "To deal with continuous variables, we need to fit a known distribution (Normal Distribution. And for that we first need to check if they even mimic the known diastribution.\n",
        "\n",
        "If they do, we fit.\n",
        "\n",
        "If they don't, they won't make up to a good result."
      ],
      "metadata": {
        "id": "yhK2g1H79QGI"
      }
    },
    {
      "cell_type": "code",
      "source": [
        "fig, axes = plt.subplots(1, 3, figsize=(18, 6))\n",
        "sns.histplot(data, ax=axes[0], x=\"mean_radius\", kde=True, color='r')\n",
        "sns.histplot(data, ax=axes[1], x=\"mean_smoothness\", kde=True, color='b')\n",
        "sns.histplot(data, ax=axes[2], x=\"mean_texture\", kde=True)"
      ],
      "metadata": {
        "colab": {
          "base_uri": "https://localhost:8080/",
          "height": 407
        },
        "id": "W3Lb7mJt8eax",
        "outputId": "88beb7bb-3bb7-4ee0-ab3f-3629fad9dd51"
      },
      "execution_count": 28,
      "outputs": [
        {
          "output_type": "execute_result",
          "data": {
            "text/plain": [
              "<matplotlib.axes._subplots.AxesSubplot at 0x7f55c01e18b0>"
            ]
          },
          "metadata": {},
          "execution_count": 28
        },
        {
          "output_type": "display_data",
          "data": {
            "text/plain": [
              "<Figure size 1296x432 with 3 Axes>"
            ],
            "image/png": "[encoded data removed]"
          },
          "metadata": {
            "needs_background": "light"
          }
        }
      ]
    },
    {
      "cell_type": "markdown",
      "source": [
        "We can see that the second and third plots look very similar to the normal distribution.\n",
        "\n",
        "As for the first plot, The mean distribution varies a little, but isn't far off to discard, so we will fit the normal distribution here as well."
      ],
      "metadata": {
        "id": "Ki7LH6NM963i"
      }
    },
    {
      "cell_type": "markdown",
      "source": [
        "## The actual Code"
      ],
      "metadata": {
        "id": "U7f6CK_O-rd5"
      }
    },
    {
      "cell_type": "markdown",
      "source": [
        "We will be computing likelihood and prior probabilities to finally calculate posterior probability."
      ],
      "metadata": {
        "id": "qoeEcC5E-vkR"
      }
    },
    {
      "cell_type": "markdown",
      "source": [
        "### Calculating prior probability"
      ],
      "metadata": {
        "id": "g5GrKpHj--1A"
      }
    },
    {
      "cell_type": "code",
      "source": [
        "def calculate_prior(df, Y):\n",
        "    classes = sorted(list(df[Y].unique()))\n",
        "    prior = []\n",
        "    for i in classes:\n",
        "        prior.append(len(df[df[Y]==i])/len(df))\n",
        "    return prior"
      ],
      "metadata": {
        "id": "aLOCan6m8_kq"
      },
      "execution_count": 29,
      "outputs": []
    },
    {
      "cell_type": "markdown",
      "source": [
        "### Calculating likelihood"
      ],
      "metadata": {
        "id": "Lj20fSiqAD4j"
      }
    },
    {
      "cell_type": "markdown",
      "source": [
        "#### By Gaussian Distribution"
      ],
      "metadata": {
        "id": "k8zrEsOkAI_5"
      }
    },
    {
      "cell_type": "markdown",
      "source": [
        "![image.png](data:image/png;base64,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)"
      ],
      "metadata": {
        "id": "sFMpSoiKAr03"
      }
    },
    {
      "cell_type": "code",
      "source": [
        "def calculate_likelihood_gaussian(df, feat_name, feat_val, Y, label):\n",
        "    feat = list(df.columns)\n",
        "    df = df[df[Y]==label]\n",
        "    mean, std = df[feat_name].mean(), df[feat_name].std()\n",
        "    p_x_given_y = (1 / (np.sqrt(2 * np.pi) * std)) *  np.exp(-((feat_val-mean)**2 / (2 * std**2 )))\n",
        "    return p_x_given_y"
      ],
      "metadata": {
        "id": "CNbWzQ40_9N-"
      },
      "execution_count": 30,
      "outputs": []
    },
    {
      "cell_type": "markdown",
      "source": [
        "### Naive Bayes Classifier"
      ],
      "metadata": {
        "id": "rZjDJ4ekCOp4"
      }
    },
    {
      "cell_type": "code",
      "source": [
        "def naive_bayes_gaussian(df, X, Y):\n",
        "\n",
        "    # get feature names\n",
        "    features = list(df.columns)[:-1]\n",
        "\n",
        "    # calculate prior\n",
        "    prior = calculate_prior(df, Y)\n",
        "\n",
        "    Y_pred = []\n",
        "\n",
        "    # loop over every data sample\n",
        "    for x in X:\n",
        "      \n",
        "        # calculate likelihood\n",
        "        labels = sorted(list(df[Y].unique()))\n",
        "        likelihood = [1]*len(labels)\n",
        "        for j in range(len(labels)):\n",
        "            for i in range(len(features)):\n",
        "                likelihood[j] *= calculate_likelihood_gaussian(df, features[i], x[i], Y, labels[j])\n",
        "\n",
        "        # calculate posterior probability (numerator only)\n",
        "        post_prob = [1]*len(labels)\n",
        "        for j in range(len(labels)):\n",
        "            post_prob[j] = likelihood[j] * prior[j]\n",
        "\n",
        "        Y_pred.append(np.argmax(post_prob))\n",
        "\n",
        "    return np.array(Y_pred) "
      ],
      "metadata": {
        "id": "smpw18piBQXt"
      },
      "execution_count": 31,
      "outputs": []
    },
    {
      "cell_type": "markdown",
      "source": [
        "### Testing out Gaussian Model"
      ],
      "metadata": {
        "id": "kii5JHc6Iffa"
      }
    },
    {
      "cell_type": "code",
      "source": [
        "from sklearn.model_selection import train_test_split\n",
        "train, test = train_test_split(data, test_size=.2, random_state=41)"
      ],
      "metadata": {
        "id": "GLgA5nnxIUum"
      },
      "execution_count": 32,
      "outputs": []
    },
    {
      "cell_type": "code",
      "source": [
        "X_test = test.iloc[:,:-1].values\n",
        "Y_test = test.iloc[:,-1].values"
      ],
      "metadata": {
        "id": "GfMR1vHyIogN"
      },
      "execution_count": 33,
      "outputs": []
    },
    {
      "cell_type": "code",
      "source": [
        "Y_pred = naive_bayes_gaussian(train, X=X_test, Y=\"diagnosis\")"
      ],
      "metadata": {
        "id": "xCol_tsJI0OO"
      },
      "execution_count": 34,
      "outputs": []
    },
    {
      "cell_type": "code",
      "source": [
        "from sklearn.metrics import confusion_matrix, f1_score"
      ],
      "metadata": {
        "id": "qjhi7GNoI0YL"
      },
      "execution_count": 35,
      "outputs": []
    },
    {
      "cell_type": "code",
      "source": [
        "print(confusion_matrix(Y_test, Y_pred))"
      ],
      "metadata": {
        "colab": {
          "base_uri": "https://localhost:8080/"
        },
        "id": "QFHF1WdEI_oc",
        "outputId": "9d0a4fce-5dab-4553-c3bd-4334bec38393"
      },
      "execution_count": 36,
      "outputs": [
        {
          "output_type": "stream",
          "name": "stdout",
          "text": [
            "[[36  4]\n",
            " [ 0 74]]\n"
          ]
        }
      ]
    },
    {
      "cell_type": "code",
      "source": [
        "print(f1_score(Y_test, Y_pred))"
      ],
      "metadata": {
        "colab": {
          "base_uri": "https://localhost:8080/"
        },
        "id": "n0XFWie3JA_C",
        "outputId": "735adb1c-7726-47e6-bca9-b5313af86eb9"
      },
      "execution_count": 37,
      "outputs": [
        {
          "output_type": "stream",
          "name": "stdout",
          "text": [
            "0.9736842105263158\n"
          ]
        }
      ]
    }
  ],
  "metadata": {
    "colab": {
      "provenance": [],
      "collapsed_sections": [
        "cyIgUZb3JfE2",
        "S2KoHFXz7sRt",
        "U7f6CK_O-rd5",
        "g5GrKpHj--1A",
        "Lj20fSiqAD4j",
        "k8zrEsOkAI_5",
        "rZjDJ4ekCOp4",
        "kii5JHc6Iffa"
      ]
    },
    "kernelspec": {
      "display_name": "Python 3",
      "name": "python3"
    },
    "language_info": {
      "name": "python"
    }
  },
  "nbformat": 4,
  "nbformat_minor": 0
}