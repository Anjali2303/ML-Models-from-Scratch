{
  "nbformat": 4,
  "nbformat_minor": 0,
  "metadata": {
    "colab": {
      "provenance": [],
      "collapsed_sections": [
        "fuTpqfv5geJE"
      ]
    },
    "kernelspec": {
      "name": "python3",
      "display_name": "Python 3"
    },
    "language_info": {
      "name": "python"
    }
  },
  "cells": [
    {
      "cell_type": "markdown",
      "source": [
        "## Importing Libraries"
      ],
      "metadata": {
        "id": "fuTpqfv5geJE"
      }
    },
    {
      "cell_type": "code",
      "execution_count": 7,
      "metadata": {
        "id": "83gimqJ7UeQr"
      },
      "outputs": [],
      "source": [
        "import numpy as np\n",
        "import pandas as pd\n",
        "import seaborn as sns\n",
        "import matplotlib.pyplot as plt\n",
        "from sklearn import preprocessing, svm\n",
        "from sklearn.model_selection import train_test_split"
      ]
    },
    {
      "cell_type": "markdown",
      "source": [
        "## Generating Data"
      ],
      "metadata": {
        "id": "oeXgSsyHgeP2"
      }
    },
    {
      "cell_type": "code",
      "source": [
        "! pip install -q kaggle\n",
        "from google.colab import files\n",
        "files.upload()\n",
        "! mkdir ~/.kaggle\n",
        "! cp kaggle.json ~/.kaggle/\n",
        "! chmod 600 ~/.kaggle/kaggle.json"
      ],
      "metadata": {
        "colab": {
          "base_uri": "https://localhost:8080/",
          "height": 90
        },
        "id": "aDo7nSp2hp9T",
        "outputId": "3a30544a-6236-46d2-aeba-941be2e8564c"
      },
      "execution_count": 9,
      "outputs": [
        {
          "output_type": "display_data",
          "data": {
            "text/plain": [
              "<IPython.core.display.HTML object>"
            ],
            "text/html": [
              "\n",
              "     <input type=\"file\" id=\"files-b36fa611-895e-4170-93bf-78731f9e214a\" name=\"files[]\" multiple disabled\n",
              "        style=\"border:none\" />\n",
              "     <output id=\"result-b36fa611-895e-4170-93bf-78731f9e214a\">\n",
              "      Upload widget is only available when the cell has been executed in the\n",
              "      current browser session. Please rerun this cell to enable.\n",
              "      </output>\n",
              "      <script>// Copyright 2017 Google LLC\n",
              "//\n",
              "// Licensed under the Apache License, Version 2.0 (the \"License\");\n",
              "// you may not use this file except in compliance with the License.\n",
              "// You may obtain a copy of the License at\n",
              "//\n",
              "//      http://www.apache.org/licenses/LICENSE-2.0\n",
              "//\n",
              "// Unless required by applicable law or agreed to in writing, software\n",
              "// distributed under the License is distributed on an \"AS IS\" BASIS,\n",
              "// WITHOUT WARRANTIES OR CONDITIONS OF ANY KIND, either express or implied.\n",
              "// See the License for the specific language governing permissions and\n",
              "// limitations under the License.\n",
              "\n",
              "/**\n",
              " * @fileoverview Helpers for google.colab Python module.\n",
              " */\n",
              "(function(scope) {\n",
              "function span(text, styleAttributes = {}) {\n",
              "  const element = document.createElement('span');\n",
              "  element.textContent = text;\n",
              "  for (const key of Object.keys(styleAttributes)) {\n",
              "    element.style[key] = styleAttributes[key];\n",
              "  }\n",
              "  return element;\n",
              "}\n",
              "\n",
              "// Max number of bytes which will be uploaded at a time.\n",
              "const MAX_PAYLOAD_SIZE = 100 * 1024;\n",
              "\n",
              "function _uploadFiles(inputId, outputId) {\n",
              "  const steps = uploadFilesStep(inputId, outputId);\n",
              "  const outputElement = document.getElementById(outputId);\n",
              "  // Cache steps on the outputElement to make it available for the next call\n",
              "  // to uploadFilesContinue from Python.\n",
              "  outputElement.steps = steps;\n",
              "\n",
              "  return _uploadFilesContinue(outputId);\n",
              "}\n",
              "\n",
              "// This is roughly an async generator (not supported in the browser yet),\n",
              "// where there are multiple asynchronous steps and the Python side is going\n",
              "// to poll for completion of each step.\n",
              "// This uses a Promise to block the python side on completion of each step,\n",
              "// then passes the result of the previous step as the input to the next step.\n",
              "function _uploadFilesContinue(outputId) {\n",
              "  const outputElement = document.getElementById(outputId);\n",
              "  const steps = outputElement.steps;\n",
              "\n",
              "  const next = steps.next(outputElement.lastPromiseValue);\n",
              "  return Promise.resolve(next.value.promise).then((value) => {\n",
              "    // Cache the last promise value to make it available to the next\n",
              "    // step of the generator.\n",
              "    outputElement.lastPromiseValue = value;\n",
              "    return next.value.response;\n",
              "  });\n",
              "}\n",
              "\n",
              "/**\n",
              " * Generator function which is called between each async step of the upload\n",
              " * process.\n",
              " * @param {string} inputId Element ID of the input file picker element.\n",
              " * @param {string} outputId Element ID of the output display.\n",
              " * @return {!Iterable<!Object>} Iterable of next steps.\n",
              " */\n",
              "function* uploadFilesStep(inputId, outputId) {\n",
              "  const inputElement = document.getElementById(inputId);\n",
              "  inputElement.disabled = false;\n",
              "\n",
              "  const outputElement = document.getElementById(outputId);\n",
              "  outputElement.innerHTML = '';\n",
              "\n",
              "  const pickedPromise = new Promise((resolve) => {\n",
              "    inputElement.addEventListener('change', (e) => {\n",
              "      resolve(e.target.files);\n",
              "    });\n",
              "  });\n",
              "\n",
              "  const cancel = document.createElement('button');\n",
              "  inputElement.parentElement.appendChild(cancel);\n",
              "  cancel.textContent = 'Cancel upload';\n",
              "  const cancelPromise = new Promise((resolve) => {\n",
              "    cancel.onclick = () => {\n",
              "      resolve(null);\n",
              "    };\n",
              "  });\n",
              "\n",
              "  // Wait for the user to pick the files.\n",
              "  const files = yield {\n",
              "    promise: Promise.race([pickedPromise, cancelPromise]),\n",
              "    response: {\n",
              "      action: 'starting',\n",
              "    }\n",
              "  };\n",
              "\n",
              "  cancel.remove();\n",
              "\n",
              "  // Disable the input element since further picks are not allowed.\n",
              "  inputElement.disabled = true;\n",
              "\n",
              "  if (!files) {\n",
              "    return {\n",
              "      response: {\n",
              "        action: 'complete',\n",
              "      }\n",
              "    };\n",
              "  }\n",
              "\n",
              "  for (const file of files) {\n",
              "    const li = document.createElement('li');\n",
              "    li.append(span(file.name, {fontWeight: 'bold'}));\n",
              "    li.append(span(\n",
              "        `(${file.type || 'n/a'}) - ${file.size} bytes, ` +\n",
              "        `last modified: ${\n",
              "            file.lastModifiedDate ? file.lastModifiedDate.toLocaleDateString() :\n",
              "                                    'n/a'} - `));\n",
              "    const percent = span('0% done');\n",
              "    li.appendChild(percent);\n",
              "\n",
              "    outputElement.appendChild(li);\n",
              "\n",
              "    const fileDataPromise = new Promise((resolve) => {\n",
              "      const reader = new FileReader();\n",
              "      reader.onload = (e) => {\n",
              "        resolve(e.target.result);\n",
              "      };\n",
              "      reader.readAsArrayBuffer(file);\n",
              "    });\n",
              "    // Wait for the data to be ready.\n",
              "    let fileData = yield {\n",
              "      promise: fileDataPromise,\n",
              "      response: {\n",
              "        action: 'continue',\n",
              "      }\n",
              "    };\n",
              "\n",
              "    // Use a chunked sending to avoid message size limits. See b/62115660.\n",
              "    let position = 0;\n",
              "    do {\n",
              "      const length = Math.min(fileData.byteLength - position, MAX_PAYLOAD_SIZE);\n",
              "      const chunk = new Uint8Array(fileData, position, length);\n",
              "      position += length;\n",
              "\n",
              "      const base64 = btoa(String.fromCharCode.apply(null, chunk));\n",
              "      yield {\n",
              "        response: {\n",
              "          action: 'append',\n",
              "          file: file.name,\n",
              "          data: base64,\n",
              "        },\n",
              "      };\n",
              "\n",
              "      let percentDone = fileData.byteLength === 0 ?\n",
              "          100 :\n",
              "          Math.round((position / fileData.byteLength) * 100);\n",
              "      percent.textContent = `${percentDone}% done`;\n",
              "\n",
              "    } while (position < fileData.byteLength);\n",
              "  }\n",
              "\n",
              "  // All done.\n",
              "  yield {\n",
              "    response: {\n",
              "      action: 'complete',\n",
              "    }\n",
              "  };\n",
              "}\n",
              "\n",
              "scope.google = scope.google || {};\n",
              "scope.google.colab = scope.google.colab || {};\n",
              "scope.google.colab._files = {\n",
              "  _uploadFiles,\n",
              "  _uploadFilesContinue,\n",
              "};\n",
              "})(self);\n",
              "</script> "
            ]
          },
          "metadata": {}
        },
        {
          "output_type": "stream",
          "name": "stdout",
          "text": [
            "Saving kaggle.json to kaggle (1).json\n",
            "mkdir: cannot create directory ‘/root/.kaggle’: File exists\n"
          ]
        }
      ]
    },
    {
      "cell_type": "code",
      "source": [
        "! kaggle datasets download -d whenamancodes/students-performance-in-exams"
      ],
      "metadata": {
        "colab": {
          "base_uri": "https://localhost:8080/"
        },
        "id": "mlx1akV1gdhO",
        "outputId": "55cc4b0e-4081-4302-c319-c118547b0fba"
      },
      "execution_count": 18,
      "outputs": [
        {
          "output_type": "stream",
          "name": "stdout",
          "text": [
            "students-performance-in-exams.zip: Skipping, found more recently modified local copy (use --force to force download)\n"
          ]
        }
      ]
    },
    {
      "cell_type": "code",
      "source": [
        "! unzip students-performance-in-exams.zip"
      ],
      "metadata": {
        "colab": {
          "base_uri": "https://localhost:8080/"
        },
        "id": "K9qDbKt0gUbJ",
        "outputId": "0b19d368-3553-4aab-ab10-47525f8839b1"
      },
      "execution_count": 19,
      "outputs": [
        {
          "output_type": "stream",
          "name": "stdout",
          "text": [
            "Archive:  students-performance-in-exams.zip\n",
            "replace exams.csv? [y]es, [n]o, [A]ll, [N]one, [r]ename: y\n",
            "  inflating: exams.csv               \n"
          ]
        }
      ]
    },
    {
      "cell_type": "code",
      "source": [
        "df = pd.read_csv(\"exams.csv\")\n",
        "df.head(10)"
      ],
      "metadata": {
        "colab": {
          "base_uri": "https://localhost:8080/",
          "height": 363
        },
        "id": "KG99ld44faZm",
        "outputId": "0641f045-a184-45b0-ffed-71dbf2d8dd7e"
      },
      "execution_count": 67,
      "outputs": [
        {
          "output_type": "execute_result",
          "data": {
            "text/plain": [
              "   gender race/ethnicity parental level of education         lunch  \\\n",
              "0    male        group A                 high school      standard   \n",
              "1  female        group D            some high school  free/reduced   \n",
              "2    male        group E                some college  free/reduced   \n",
              "3    male        group B                 high school      standard   \n",
              "4    male        group E          associate's degree      standard   \n",
              "5  female        group D                 high school      standard   \n",
              "6  female        group A           bachelor's degree      standard   \n",
              "7    male        group E                some college      standard   \n",
              "8    male        group D                 high school      standard   \n",
              "9    male        group C                some college  free/reduced   \n",
              "\n",
              "  test preparation course  math score  reading score  writing score  \n",
              "0               completed          67             67             63  \n",
              "1                    none          40             59             55  \n",
              "2                    none          59             60             50  \n",
              "3                    none          77             78             68  \n",
              "4               completed          78             73             68  \n",
              "5                    none          63             77             76  \n",
              "6                    none          62             59             63  \n",
              "7               completed          93             88             84  \n",
              "8                    none          63             56             65  \n",
              "9                    none          47             42             45  "
            ],
            "text/html": [
              "\n",
              "  <div id=\"df-0f763e12-acd3-4588-8f68-bd297472d216\">\n",
              "    <div class=\"colab-df-container\">\n",
              "      <div>\n",
              "<style scoped>\n",
              "    .dataframe tbody tr th:only-of-type {\n",
              "        vertical-align: middle;\n",
              "    }\n",
              "\n",
              "    .dataframe tbody tr th {\n",
              "        vertical-align: top;\n",
              "    }\n",
              "\n",
              "    .dataframe thead th {\n",
              "        text-align: right;\n",
              "    }\n",
              "</style>\n",
              "<table border=\"1\" class=\"dataframe\">\n",
              "  <thead>\n",
              "    <tr style=\"text-align: right;\">\n",
              "      <th></th>\n",
              "      <th>gender</th>\n",
              "      <th>race/ethnicity</th>\n",
              "      <th>parental level of education</th>\n",
              "      <th>lunch</th>\n",
              "      <th>test preparation course</th>\n",
              "      <th>math score</th>\n",
              "      <th>reading score</th>\n",
              "      <th>writing score</th>\n",
              "    </tr>\n",
              "  </thead>\n",
              "  <tbody>\n",
              "    <tr>\n",
              "      <th>0</th>\n",
              "      <td>male</td>\n",
              "      <td>group A</td>\n",
              "      <td>high school</td>\n",
              "      <td>standard</td>\n",
              "      <td>completed</td>\n",
              "      <td>67</td>\n",
              "      <td>67</td>\n",
              "      <td>63</td>\n",
              "    </tr>\n",
              "    <tr>\n",
              "      <th>1</th>\n",
              "      <td>female</td>\n",
              "      <td>group D</td>\n",
              "      <td>some high school</td>\n",
              "      <td>free/reduced</td>\n",
              "      <td>none</td>\n",
              "      <td>40</td>\n",
              "      <td>59</td>\n",
              "      <td>55</td>\n",
              "    </tr>\n",
              "    <tr>\n",
              "      <th>2</th>\n",
              "      <td>male</td>\n",
              "      <td>group E</td>\n",
              "      <td>some college</td>\n",
              "      <td>free/reduced</td>\n",
              "      <td>none</td>\n",
              "      <td>59</td>\n",
              "      <td>60</td>\n",
              "      <td>50</td>\n",
              "    </tr>\n",
              "    <tr>\n",
              "      <th>3</th>\n",
              "      <td>male</td>\n",
              "      <td>group B</td>\n",
              "      <td>high school</td>\n",
              "      <td>standard</td>\n",
              "      <td>none</td>\n",
              "      <td>77</td>\n",
              "      <td>78</td>\n",
              "      <td>68</td>\n",
              "    </tr>\n",
              "    <tr>\n",
              "      <th>4</th>\n",
              "      <td>male</td>\n",
              "      <td>group E</td>\n",
              "      <td>associate's degree</td>\n",
              "      <td>standard</td>\n",
              "      <td>completed</td>\n",
              "      <td>78</td>\n",
              "      <td>73</td>\n",
              "      <td>68</td>\n",
              "    </tr>\n",
              "    <tr>\n",
              "      <th>5</th>\n",
              "      <td>female</td>\n",
              "      <td>group D</td>\n",
              "      <td>high school</td>\n",
              "      <td>standard</td>\n",
              "      <td>none</td>\n",
              "      <td>63</td>\n",
              "      <td>77</td>\n",
              "      <td>76</td>\n",
              "    </tr>\n",
              "    <tr>\n",
              "      <th>6</th>\n",
              "      <td>female</td>\n",
              "      <td>group A</td>\n",
              "      <td>bachelor's degree</td>\n",
              "      <td>standard</td>\n",
              "      <td>none</td>\n",
              "      <td>62</td>\n",
              "      <td>59</td>\n",
              "      <td>63</td>\n",
              "    </tr>\n",
              "    <tr>\n",
              "      <th>7</th>\n",
              "      <td>male</td>\n",
              "      <td>group E</td>\n",
              "      <td>some college</td>\n",
              "      <td>standard</td>\n",
              "      <td>completed</td>\n",
              "      <td>93</td>\n",
              "      <td>88</td>\n",
              "      <td>84</td>\n",
              "    </tr>\n",
              "    <tr>\n",
              "      <th>8</th>\n",
              "      <td>male</td>\n",
              "      <td>group D</td>\n",
              "      <td>high school</td>\n",
              "      <td>standard</td>\n",
              "      <td>none</td>\n",
              "      <td>63</td>\n",
              "      <td>56</td>\n",
              "      <td>65</td>\n",
              "    </tr>\n",
              "    <tr>\n",
              "      <th>9</th>\n",
              "      <td>male</td>\n",
              "      <td>group C</td>\n",
              "      <td>some college</td>\n",
              "      <td>free/reduced</td>\n",
              "      <td>none</td>\n",
              "      <td>47</td>\n",
              "      <td>42</td>\n",
              "      <td>45</td>\n",
              "    </tr>\n",
              "  </tbody>\n",
              "</table>\n",
              "</div>\n",
              "      <button class=\"colab-df-convert\" onclick=\"convertToInteractive('df-0f763e12-acd3-4588-8f68-bd297472d216')\"\n",
              "              title=\"Convert this dataframe to an interactive table.\"\n",
              "              style=\"display:none;\">\n",
              "        \n",
              "  <svg xmlns=\"http://www.w3.org/2000/svg\" height=\"24px\"viewBox=\"0 0 24 24\"\n",
              "       width=\"24px\">\n",
              "    <path d=\"M0 0h24v24H0V0z\" fill=\"none\"/>\n",
              "    <path d=\"M18.56 5.44l.94 2.06.94-2.06 2.06-.94-2.06-.94-.94-2.06-.94 2.06-2.06.94zm-11 1L8.5 8.5l.94-2.06 2.06-.94-2.06-.94L8.5 2.5l-.94 2.06-2.06.94zm10 10l.94 2.06.94-2.06 2.06-.94-2.06-.94-.94-2.06-.94 2.06-2.06.94z\"/><path d=\"M17.41 7.96l-1.37-1.37c-.4-.4-.92-.59-1.43-.59-.52 0-1.04.2-1.43.59L10.3 9.45l-7.72 7.72c-.78.78-.78 2.05 0 2.83L4 21.41c.39.39.9.59 1.41.59.51 0 1.02-.2 1.41-.59l7.78-7.78 2.81-2.81c.8-.78.8-2.07 0-2.86zM5.41 20L4 18.59l7.72-7.72 1.47 1.35L5.41 20z\"/>\n",
              "  </svg>\n",
              "      </button>\n",
              "      \n",
              "  <style>\n",
              "    .colab-df-container {\n",
              "      display:flex;\n",
              "      flex-wrap:wrap;\n",
              "      gap: 12px;\n",
              "    }\n",
              "\n",
              "    .colab-df-convert {\n",
              "      background-color: #E8F0FE;\n",
              "      border: none;\n",
              "      border-radius: 50%;\n",
              "      cursor: pointer;\n",
              "      display: none;\n",
              "      fill: #1967D2;\n",
              "      height: 32px;\n",
              "      padding: 0 0 0 0;\n",
              "      width: 32px;\n",
              "    }\n",
              "\n",
              "    .colab-df-convert:hover {\n",
              "      background-color: #E2EBFA;\n",
              "      box-shadow: 0px 1px 2px rgba(60, 64, 67, 0.3), 0px 1px 3px 1px rgba(60, 64, 67, 0.15);\n",
              "      fill: #174EA6;\n",
              "    }\n",
              "\n",
              "    [theme=dark] .colab-df-convert {\n",
              "      background-color: #3B4455;\n",
              "      fill: #D2E3FC;\n",
              "    }\n",
              "\n",
              "    [theme=dark] .colab-df-convert:hover {\n",
              "      background-color: #434B5C;\n",
              "      box-shadow: 0px 1px 3px 1px rgba(0, 0, 0, 0.15);\n",
              "      filter: drop-shadow(0px 1px 2px rgba(0, 0, 0, 0.3));\n",
              "      fill: #FFFFFF;\n",
              "    }\n",
              "  </style>\n",
              "\n",
              "      <script>\n",
              "        const buttonEl =\n",
              "          document.querySelector('#df-0f763e12-acd3-4588-8f68-bd297472d216 button.colab-df-convert');\n",
              "        buttonEl.style.display =\n",
              "          google.colab.kernel.accessAllowed ? 'block' : 'none';\n",
              "\n",
              "        async function convertToInteractive(key) {\n",
              "          const element = document.querySelector('#df-0f763e12-acd3-4588-8f68-bd297472d216');\n",
              "          const dataTable =\n",
              "            await google.colab.kernel.invokeFunction('convertToInteractive',\n",
              "                                                     [key], {});\n",
              "          if (!dataTable) return;\n",
              "\n",
              "          const docLinkHtml = 'Like what you see? Visit the ' +\n",
              "            '<a target=\"_blank\" href=https://colab.research.google.com/notebooks/data_table.ipynb>data table notebook</a>'\n",
              "            + ' to learn more about interactive tables.';\n",
              "          element.innerHTML = '';\n",
              "          dataTable['output_type'] = 'display_data';\n",
              "          await google.colab.output.renderOutput(dataTable, element);\n",
              "          const docLink = document.createElement('div');\n",
              "          docLink.innerHTML = docLinkHtml;\n",
              "          element.appendChild(docLink);\n",
              "        }\n",
              "      </script>\n",
              "    </div>\n",
              "  </div>\n",
              "  "
            ]
          },
          "metadata": {},
          "execution_count": 67
        }
      ]
    },
    {
      "cell_type": "markdown",
      "source": [
        "## Data Visualization"
      ],
      "metadata": {
        "id": "kwRqpEirlUjc"
      }
    },
    {
      "cell_type": "code",
      "source": [
        "df.corr()"
      ],
      "metadata": {
        "colab": {
          "base_uri": "https://localhost:8080/",
          "height": 143
        },
        "id": "SpvcGiytkk3-",
        "outputId": "a7ca3df6-8d47-4ee1-ee13-f7d030b7ffcb"
      },
      "execution_count": 68,
      "outputs": [
        {
          "output_type": "execute_result",
          "data": {
            "text/plain": [
              "               math score  reading score  writing score\n",
              "math score       1.000000       0.819398       0.805944\n",
              "reading score    0.819398       1.000000       0.954274\n",
              "writing score    0.805944       0.954274       1.000000"
            ],
            "text/html": [
              "\n",
              "  <div id=\"df-ce5ab2ee-9b69-45dd-b15e-bb9235b3b6da\">\n",
              "    <div class=\"colab-df-container\">\n",
              "      <div>\n",
              "<style scoped>\n",
              "    .dataframe tbody tr th:only-of-type {\n",
              "        vertical-align: middle;\n",
              "    }\n",
              "\n",
              "    .dataframe tbody tr th {\n",
              "        vertical-align: top;\n",
              "    }\n",
              "\n",
              "    .dataframe thead th {\n",
              "        text-align: right;\n",
              "    }\n",
              "</style>\n",
              "<table border=\"1\" class=\"dataframe\">\n",
              "  <thead>\n",
              "    <tr style=\"text-align: right;\">\n",
              "      <th></th>\n",
              "      <th>math score</th>\n",
              "      <th>reading score</th>\n",
              "      <th>writing score</th>\n",
              "    </tr>\n",
              "  </thead>\n",
              "  <tbody>\n",
              "    <tr>\n",
              "      <th>math score</th>\n",
              "      <td>1.000000</td>\n",
              "      <td>0.819398</td>\n",
              "      <td>0.805944</td>\n",
              "    </tr>\n",
              "    <tr>\n",
              "      <th>reading score</th>\n",
              "      <td>0.819398</td>\n",
              "      <td>1.000000</td>\n",
              "      <td>0.954274</td>\n",
              "    </tr>\n",
              "    <tr>\n",
              "      <th>writing score</th>\n",
              "      <td>0.805944</td>\n",
              "      <td>0.954274</td>\n",
              "      <td>1.000000</td>\n",
              "    </tr>\n",
              "  </tbody>\n",
              "</table>\n",
              "</div>\n",
              "      <button class=\"colab-df-convert\" onclick=\"convertToInteractive('df-ce5ab2ee-9b69-45dd-b15e-bb9235b3b6da')\"\n",
              "              title=\"Convert this dataframe to an interactive table.\"\n",
              "              style=\"display:none;\">\n",
              "        \n",
              "  <svg xmlns=\"http://www.w3.org/2000/svg\" height=\"24px\"viewBox=\"0 0 24 24\"\n",
              "       width=\"24px\">\n",
              "    <path d=\"M0 0h24v24H0V0z\" fill=\"none\"/>\n",
              "    <path d=\"M18.56 5.44l.94 2.06.94-2.06 2.06-.94-2.06-.94-.94-2.06-.94 2.06-2.06.94zm-11 1L8.5 8.5l.94-2.06 2.06-.94-2.06-.94L8.5 2.5l-.94 2.06-2.06.94zm10 10l.94 2.06.94-2.06 2.06-.94-2.06-.94-.94-2.06-.94 2.06-2.06.94z\"/><path d=\"M17.41 7.96l-1.37-1.37c-.4-.4-.92-.59-1.43-.59-.52 0-1.04.2-1.43.59L10.3 9.45l-7.72 7.72c-.78.78-.78 2.05 0 2.83L4 21.41c.39.39.9.59 1.41.59.51 0 1.02-.2 1.41-.59l7.78-7.78 2.81-2.81c.8-.78.8-2.07 0-2.86zM5.41 20L4 18.59l7.72-7.72 1.47 1.35L5.41 20z\"/>\n",
              "  </svg>\n",
              "      </button>\n",
              "      \n",
              "  <style>\n",
              "    .colab-df-container {\n",
              "      display:flex;\n",
              "      flex-wrap:wrap;\n",
              "      gap: 12px;\n",
              "    }\n",
              "\n",
              "    .colab-df-convert {\n",
              "      background-color: #E8F0FE;\n",
              "      border: none;\n",
              "      border-radius: 50%;\n",
              "      cursor: pointer;\n",
              "      display: none;\n",
              "      fill: #1967D2;\n",
              "      height: 32px;\n",
              "      padding: 0 0 0 0;\n",
              "      width: 32px;\n",
              "    }\n",
              "\n",
              "    .colab-df-convert:hover {\n",
              "      background-color: #E2EBFA;\n",
              "      box-shadow: 0px 1px 2px rgba(60, 64, 67, 0.3), 0px 1px 3px 1px rgba(60, 64, 67, 0.15);\n",
              "      fill: #174EA6;\n",
              "    }\n",
              "\n",
              "    [theme=dark] .colab-df-convert {\n",
              "      background-color: #3B4455;\n",
              "      fill: #D2E3FC;\n",
              "    }\n",
              "\n",
              "    [theme=dark] .colab-df-convert:hover {\n",
              "      background-color: #434B5C;\n",
              "      box-shadow: 0px 1px 3px 1px rgba(0, 0, 0, 0.15);\n",
              "      filter: drop-shadow(0px 1px 2px rgba(0, 0, 0, 0.3));\n",
              "      fill: #FFFFFF;\n",
              "    }\n",
              "  </style>\n",
              "\n",
              "      <script>\n",
              "        const buttonEl =\n",
              "          document.querySelector('#df-ce5ab2ee-9b69-45dd-b15e-bb9235b3b6da button.colab-df-convert');\n",
              "        buttonEl.style.display =\n",
              "          google.colab.kernel.accessAllowed ? 'block' : 'none';\n",
              "\n",
              "        async function convertToInteractive(key) {\n",
              "          const element = document.querySelector('#df-ce5ab2ee-9b69-45dd-b15e-bb9235b3b6da');\n",
              "          const dataTable =\n",
              "            await google.colab.kernel.invokeFunction('convertToInteractive',\n",
              "                                                     [key], {});\n",
              "          if (!dataTable) return;\n",
              "\n",
              "          const docLinkHtml = 'Like what you see? Visit the ' +\n",
              "            '<a target=\"_blank\" href=https://colab.research.google.com/notebooks/data_table.ipynb>data table notebook</a>'\n",
              "            + ' to learn more about interactive tables.';\n",
              "          element.innerHTML = '';\n",
              "          dataTable['output_type'] = 'display_data';\n",
              "          await google.colab.output.renderOutput(dataTable, element);\n",
              "          const docLink = document.createElement('div');\n",
              "          docLink.innerHTML = docLinkHtml;\n",
              "          element.appendChild(docLink);\n",
              "        }\n",
              "      </script>\n",
              "    </div>\n",
              "  </div>\n",
              "  "
            ]
          },
          "metadata": {},
          "execution_count": 68
        }
      ]
    },
    {
      "cell_type": "code",
      "source": [
        "df.isnull().sum()"
      ],
      "metadata": {
        "colab": {
          "base_uri": "https://localhost:8080/"
        },
        "id": "0A8VPX-w2Cq6",
        "outputId": "df576c81-dcb8-424c-de27-1e29f7b970dc"
      },
      "execution_count": 88,
      "outputs": [
        {
          "output_type": "execute_result",
          "data": {
            "text/plain": [
              "gender                         0\n",
              "race/ethnicity                 0\n",
              "parental level of education    0\n",
              "lunch                          0\n",
              "test preparation course        0\n",
              "math score                     0\n",
              "reading score                  0\n",
              "writing score                  0\n",
              "dtype: int64"
            ]
          },
          "metadata": {},
          "execution_count": 88
        }
      ]
    },
    {
      "cell_type": "code",
      "source": [
        "df.info()"
      ],
      "metadata": {
        "colab": {
          "base_uri": "https://localhost:8080/"
        },
        "id": "rF8CkJi72QA-",
        "outputId": "ff72cef7-2710-49bb-b879-dd5a15b0ef2a"
      },
      "execution_count": 89,
      "outputs": [
        {
          "output_type": "stream",
          "name": "stdout",
          "text": [
            "<class 'pandas.core.frame.DataFrame'>\n",
            "RangeIndex: 1000 entries, 0 to 999\n",
            "Data columns (total 8 columns):\n",
            " #   Column                       Non-Null Count  Dtype \n",
            "---  ------                       --------------  ----- \n",
            " 0   gender                       1000 non-null   object\n",
            " 1   race/ethnicity               1000 non-null   object\n",
            " 2   parental level of education  1000 non-null   object\n",
            " 3   lunch                        1000 non-null   object\n",
            " 4   test preparation course      1000 non-null   object\n",
            " 5   math score                   1000 non-null   int64 \n",
            " 6   reading score                1000 non-null   int64 \n",
            " 7   writing score                1000 non-null   int64 \n",
            "dtypes: int64(3), object(5)\n",
            "memory usage: 62.6+ KB\n"
          ]
        }
      ]
    },
    {
      "cell_type": "code",
      "source": [
        "df.shape"
      ],
      "metadata": {
        "colab": {
          "base_uri": "https://localhost:8080/"
        },
        "id": "64cBZIZ7zjnL",
        "outputId": "e7d75c79-8dd4-4c1a-9640-29cbe5d8585c"
      },
      "execution_count": 69,
      "outputs": [
        {
          "output_type": "execute_result",
          "data": {
            "text/plain": [
              "(1000, 8)"
            ]
          },
          "metadata": {},
          "execution_count": 69
        }
      ]
    },
    {
      "cell_type": "code",
      "source": [
        "m = 1000"
      ],
      "metadata": {
        "id": "a3AlabXnznOg"
      },
      "execution_count": 70,
      "outputs": []
    },
    {
      "cell_type": "code",
      "source": [
        "X,y = df['reading score'],df['writing score']"
      ],
      "metadata": {
        "id": "6zQsuue1kbii"
      },
      "execution_count": 71,
      "outputs": []
    },
    {
      "cell_type": "code",
      "source": [
        "type(X)"
      ],
      "metadata": {
        "colab": {
          "base_uri": "https://localhost:8080/"
        },
        "id": "kOqfDaIXwAAD",
        "outputId": "99bf0129-ca11-4c0e-efd2-a48ef1f40301"
      },
      "execution_count": 72,
      "outputs": [
        {
          "output_type": "execute_result",
          "data": {
            "text/plain": [
              "pandas.core.series.Series"
            ]
          },
          "metadata": {},
          "execution_count": 72
        }
      ]
    },
    {
      "cell_type": "code",
      "source": [
        "X=np.array(X)"
      ],
      "metadata": {
        "id": "yeXXPpalw0nn"
      },
      "execution_count": 73,
      "outputs": []
    },
    {
      "cell_type": "code",
      "source": [
        "type(X)"
      ],
      "metadata": {
        "colab": {
          "base_uri": "https://localhost:8080/"
        },
        "id": "xlU2L2o3xH0M",
        "outputId": "5f9998a8-f7e7-4271-d166-4cf6a9ecb60b"
      },
      "execution_count": 74,
      "outputs": [
        {
          "output_type": "execute_result",
          "data": {
            "text/plain": [
              "numpy.ndarray"
            ]
          },
          "metadata": {},
          "execution_count": 74
        }
      ]
    },
    {
      "cell_type": "code",
      "source": [
        "y=np.array(y)"
      ],
      "metadata": {
        "id": "N3XGjSzyxH3e"
      },
      "execution_count": 75,
      "outputs": []
    },
    {
      "cell_type": "code",
      "source": [
        "from matplotlib import pyplot as plt\n",
        "plt.scatter(X,y, c = \"red\",alpha=.5, marker = 'o')\n",
        "plt.xlabel(\"X\")\n",
        "plt.ylabel(\"Y\")\n",
        "plt.show()"
      ],
      "metadata": {
        "colab": {
          "base_uri": "https://localhost:8080/",
          "height": 279
        },
        "id": "IfRLNnsgfacc",
        "outputId": "ccf8524f-b884-4839-b0ec-9f1b4262d037"
      },
      "execution_count": 76,
      "outputs": [
        {
          "output_type": "display_data",
          "data": {
            "text/plain": [
              "<Figure size 432x288 with 1 Axes>"
            ],
            "image/png": "[encoded data removed]"
          },
          "metadata": {
            "needs_background": "light"
          }
        }
      ]
    },
    {
      "cell_type": "markdown",
      "source": [
        "## A basic idea of components of Linera Regression"
      ],
      "metadata": {
        "id": "JI_CeKE_lxw-"
      }
    },
    {
      "cell_type": "markdown",
      "source": [
        "![image.png](data:image/png;base64,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)"
      ],
      "metadata": {
        "id": "pbn752BqUnKy"
      }
    },
    {
      "cell_type": "markdown",
      "source": [
        "## Linear Model"
      ],
      "metadata": {
        "id": "KkyIYNp6lXiP"
      }
    },
    {
      "cell_type": "code",
      "source": [
        "X=np.asmatrix(X)"
      ],
      "metadata": {
        "id": "jM6rJinf0M7o"
      },
      "execution_count": 77,
      "outputs": []
    },
    {
      "cell_type": "code",
      "source": [
        "import numpy as np"
      ],
      "metadata": {
        "id": "WlklfcCRlhdj"
      },
      "execution_count": 78,
      "outputs": []
    },
    {
      "cell_type": "code",
      "source": [
        "# In the following code, we will have to depict the hypothesis i.e.\n",
        "# w0 + w1 * x\n",
        "\n",
        "def h(X,w):\n",
        "    return ( w[1]*np.array(X[:,0]) + w[0] )"
      ],
      "metadata": {
        "id": "Ic7rIyLYvNtg"
      },
      "execution_count": 79,
      "outputs": []
    },
    {
      "cell_type": "markdown",
      "source": [
        "## Cost Function"
      ],
      "metadata": {
        "id": "BwCrAJXtlc3Y"
      }
    },
    {
      "cell_type": "code",
      "source": [
        "def cost(w,X,y):\n",
        "    return (.5/m) * np.sum(np.square(h(X,w)-np.array(y)))"
      ],
      "metadata": {
        "id": "fT1siDqbliZG"
      },
      "execution_count": 80,
      "outputs": []
    },
    {
      "cell_type": "markdown",
      "source": [
        "## Gradient Descent"
      ],
      "metadata": {
        "id": "mHOp9eGIlepb"
      }
    },
    {
      "cell_type": "code",
      "source": [
        "def grad(w,X,y):\n",
        "    g = [0]*2\n",
        "    g[0] = (1/m) * np.sum(h(X,w) - np.array(y))\n",
        "    g[1] = (1/m) * np.sum( (h(X,w) - np.array(y)) * np.array(X[:,0]) )\n",
        "    return g"
      ],
      "metadata": {
        "id": "r0QaGfTlfafB"
      },
      "execution_count": 81,
      "outputs": []
    },
    {
      "cell_type": "code",
      "source": [
        "def descent(w_new, w_prev, lr):\n",
        "    print(w_prev)\n",
        "    print(cost(w_prev,X,y))\n",
        "    j=0\n",
        "    while True:\n",
        "        w_prev = w_new\n",
        "        w0 = w_prev[0] - lr*grad(w_prev,X,y)[0]\n",
        "        w1 = w_prev[1] - lr*grad(w_prev,X,y)[1]\n",
        "        w_new = [w0, w1]\n",
        "\n",
        "        print(w_new)\n",
        "        print(cost(w_new,X,y))\n",
        "\n",
        "        if (w_new[0]-w_prev[0])**2 + (w_new[1]-w_prev[1])**2 <= pow(10,-4):\n",
        "            break\n",
        "        if j>100: \n",
        "            # Here j is the number of iterations\n",
        "            break\n",
        "        j+=1  "
      ],
      "metadata": {
        "id": "kr2QM_iWfahN"
      },
      "execution_count": 94,
      "outputs": []
    },
    {
      "cell_type": "markdown",
      "source": [
        "## Parameter Initialization"
      ],
      "metadata": {
        "id": "8NUaybMKlnIM"
      }
    },
    {
      "cell_type": "code",
      "source": [
        "w = [0,-1]"
      ],
      "metadata": {
        "id": "z1oFhP6Kfamm"
      },
      "execution_count": 95,
      "outputs": []
    },
    {
      "cell_type": "markdown",
      "source": [
        "## Model Training"
      ],
      "metadata": {
        "id": "cV2sM3ZalsfC"
      }
    },
    {
      "cell_type": "code",
      "source": [
        "w = descent(w,w,0.01)\n",
        "print(w)"
      ],
      "metadata": {
        "colab": {
          "base_uri": "https://localhost:8080/"
        },
        "id": "-S896W5nfaxD",
        "outputId": "cc678d09-fc75-4fe1-94cf-0553893111bc"
      },
      "execution_count": 96,
      "outputs": [
        {
          "output_type": "stream",
          "name": "stdout",
          "text": [
            "[0, -1]\n",
            "9198.738\n",
            "[1.34738, 89.27446]\n",
            "17493723.42667962\n",
            "[-57.802602, -3873.7743340000015]\n",
            "33713844548.696957\n",
            "[2538.881607800001, 170104.06772260007]\n",
            "64973658118517.83\n",
            "[-111455.55520242004, -7467523.198562143]\n",
            "1.2521788366235458e+17\n",
            "[4892900.220766239, 327824313.791338]\n",
            "2.413211575729261e+20\n",
            "[-214798318.3442579, -14391487330.065283]\n",
            "4.6507654808611894e+23\n",
            "[9429646176.660305, 631786293835.2404]\n",
            "8.963001742370496e+26\n",
            "[-413961467154.0399, -27735418299321.68]\n",
            "1.727358658791384e+30\n",
            "[18172908408063.703, 1217584863340267.0]\n",
            "3.328982880809343e+33\n",
            "[-797790679113995.0, -5.345197550063768e+16]\n",
            "6.415649097724576e+36\n",
            "[3.5023010813104384e+16, 2.3465417244779945e+18]\n",
            "1.2364303097625782e+40\n",
            "[-1.5375101746952837e+18, -1.0301318170458395e+20]\n",
            "2.3828608572775387e+43\n",
            "[6.749669666912291e+19, 4.5222786768312357e+21]\n",
            "4.592273272753844e+46\n",
            "[-2.963104983774498e+21, -1.9852803391289118e+23]\n",
            "8.850274973983927e+49\n",
            "[1.3008030878770034e+23, 8.715380688775919e+24]\n",
            "1.7056338432611557e+53\n",
            "[-5.71052555578004e+24, -3.8260521223726274e+26]\n",
            "3.2871145990713293e+56\n",
            "[2.5069207189874376e+26, 1.6796368817215834e+28]\n",
            "6.334960126476256e+59\n",
            "[-1.1005381956354852e+28, -7.373605910757747e+29]\n",
            "1.22087985053463e+63\n",
            "[4.8313626788397785e+29, 3.2370129948226503e+31]\n",
            "2.3528918567488418e+66\n",
            "[-2.120968216010663e+31, -1.4210487047271442e+33]\n",
            "4.534516715244941e+69\n",
            "[9.311050468286807e+32, 6.238403813752163e+34]\n",
            "8.738965958787201e+72\n",
            "[-4.0875511555779103e+34, -2.7386592742372e+36]\n",
            "1.684182258543428e+76\n",
            "[1.794434957298703e+36, 1.2022714213901302e+38]\n",
            "3.245772890487478e+79\n",
            "[-7.877569462541305e+37, -5.277971539902674e+39]\n",
            "6.255285972276377e+82\n",
            "[3.4582529940556306e+39, 2.3170295060172727e+41]\n",
            "1.2055249678630742e+86\n",
            "[-1.5181730643904215e+41, -1.0171759531415829e+43]\n",
            "2.3232997733153972e+89\n",
            "[6.664779752673951e+42, 4.4654024342915485e+44]\n",
            "4.477486556131165e+92\n",
            "[-2.9258383114238655e+44, -1.96031166865399e+46]\n",
            "8.629056865841548e+95\n",
            "[1.284443018715078e+46, 8.605768225391015e+47]\n",
            "1.6630004682418474e+99\n",
            "[-5.638704852159187e+47, -3.777932250946654e+49]\n",
            "3.2049511324003685e+102\n",
            "[2.4753914300978825e+49, 1.658512258165582e+51]\n",
            "6.176613871873326e+105\n",
            "[-1.0866968378129713e+51, -7.280868813346905e+52]\n",
            "1.1903632020012987e+109\n",
            "[4.7705991179989436e+52, 3.1963014090592926e+54]\n",
            "2.294079866528925e+112\n",
            "[-2.094293012801537e+54, -1.4031763185770292e+56]\n",
            "4.421173659573206e+115\n",
            "[9.193946326198744e+55, 6.1599440385531576e+57]\n",
            "8.520530088466077e+118\n",
            "[-4.0361424372012464e+57, -2.7042154329248365e+59]\n",
            "1.642085079179271e+122\n",
            "[1.7718665299313479e+59, 1.1871505750540032e+61]\n",
            "3.1646427854450842e+125\n",
            "[-7.778494066398619e+60, -5.211591024487074e+62]\n",
            "6.098931222537619e+128\n",
            "[3.4147588951489923e+62, 2.287888459749826e+64]\n",
            "1.175392124138673e+132\n",
            "[-1.4990791549704088e+64, -1.0043830338301738e+66]\n",
            "2.2652274555612942e+135\n",
            "[6.580957490320094e+65, 4.409241518514464e+67]\n",
            "4.36556900463228e+138\n",
            "[-2.8890403382505217e+67, -1.93565702662785e+69]\n",
            "8.413368241417382e+141\n",
            "[1.268288708491979e+69, 8.497534346896257e+70]\n",
            "1.6214327408541978e+145\n",
            "[-5.567787430279787e+70, -3.730417578287456e+72]\n",
            "3.124841392501617e+148\n",
            "[2.4442586818928247e+72, 1.637653316868193e+74]\n",
            "6.022225580043041e+151\n",
            "[-1.0730295613509506e+74, -7.1892980610513694e+75]\n",
            "1.1606093360114747e+155\n",
            "[4.710599774330674e+75, 3.15610184880155e+77]\n",
            "2.236737918454674e+158\n",
            "[-2.067953300931165e+77, -1.385528711623881e+79]\n",
            "4.3106636838250385e+161\n",
            "[9.078314991087816e+78, 6.082471044028838e+80]\n",
            "8.307554158104445e+164\n",
            "[-3.985380281087552e+80, -2.67020478832866e+82]\n",
            "1.6010401449040482e+168\n",
            "[1.7495819433974363e+82, 1.1722199020762824e+84]\n",
            "3.085540577660533e+171\n",
            "[-7.680664731514746e+83, -5.146045370114882e+85]\n",
            "5.94648465667316e+174\n",
            "[3.3718118171349745e+85, 2.259113917480434e+87]\n",
            "1.1460124695187089e+178\n",
            "[-1.4802253877222549e+87, -9.917510097739112e+88]\n",
            "2.208606691381153e+181\n",
            "[6.498189452100699e+88, 4.353786932907471e+90]\n",
            "4.256448901696678e+184\n",
            "[-2.8527051694722083e+90, -1.91131246354638e+92]\n",
            "8.203070887838854e+187\n",
            "[1.2523375693982995e+92, 8.390661714968614e+93]\n",
            "1.5809040245751932e+191\n",
            "[-5.497761929658539e+93, -3.683500492871222e+95]\n",
            "3.046734045201558e+194\n",
            "[2.4135174871200997e+95, 1.6170567163704662e+97]\n",
            "5.8716963192528965e+197\n",
            "[-1.059534176845723e+97, -7.098878984866346e+98]\n",
            "1.1315991863427369e+201\n",
            "[4.651355036352724e+98, 3.1164078743563253e+100]\n",
            "2.1808292679115858e+204\n",
            "[-2.041944860958846e+100, -1.368103056842427e+102]\n",
            "4.202915973411888e+207\n",
            "[8.964137939609336e+101, 6.005972419538256e+103]\n",
            "8.099901693119134e+210\n",
            "[-3.935256555488502e+103, -2.6366218921772943e+105]\n",
            "1.5610211541996117e+214\n",
            "[1.727577627859451e+105, 1.1574770106658318e+107]\n",
            "3.0084155785850313e+217\n",
            "[-7.584065786302988e+106, -5.081324076823e+108]\n",
            "5.797848587204852e+220\n",
            "[3.329404880187009e+108, 2.2307012697252968e+110]\n",
            "1.1173671775747065e+224\n",
            "[-1.4616087424020971e+110, -9.792778574094049e+111]\n",
            "2.1534011982937483e+227\n",
            "[6.416462379145203e+111, 4.299029794027288e+113]\n",
            "4.150056323363696e+230\n",
            "[-2.8168269844447446e+113, -1.8872740795779793e+115]\n",
            "7.99803004694975e+233\n",
            "[1.2365870461712429e+115, 8.285133209347325e+116]\n",
            "1.5413883486782008e+237\n",
            "[-5.4286171326917544e+116, -3.637173478903476e+118]\n",
            "2.9705790394561155e+240\n",
            "[2.383162921251681e+118, 1.5967191572386257e+120]\n",
            "5.7249296306302164e+243\n",
            "[-1.0462085224294879e+120, -7.009597100277564e+121]\n",
            "1.1033141633446851e+247\n",
            "[4.592855413465448e+121, 3.077213127021852e+123]\n",
            "2.1263180887395138e+250\n",
            "[-2.016263526511333e+123, -1.3508965627625932e+125]\n",
            "4.097861483799678e+253\n",
            "[8.851396881384752e+124, 5.930435910527784e+126]\n",
            "7.897439630193577e+256\n",
            "[-3.8857632309279055e+126, -2.6034613647216972e+128]\n",
            "1.5220024629705368e+260\n",
            "[1.7058500583773512e+128, 1.1429195391128258e+130]\n",
            "2.933218366661451e+263\n",
            "[-7.488681756276575e+129, -5.0174167767053065e+131]\n",
            "5.652927768413617e+266\n",
            "[3.2875312910054173e+131, 2.20264596497363e+133]\n",
            "1.0894378924564416e+270\n",
            "[-1.4432262367513784e+133, -9.669615786234236e+134]\n",
            "2.099575600720979e+273\n",
            "[6.33576317933855e+134, 4.24496133015683e+136]\n",
            "4.04632309346548e+276\n",
            "[-2.781400035729625e+136, -1.8635380239388486e+138]\n",
            "7.798114328957604e+279\n",
            "[1.2210346156853059e+138, 8.18093192509155e+139]\n",
            "1.5028603915910405e+283\n",
            "[-5.360341962858495e+139, -3.5914291151151905e+141]\n",
            "2.8963275752781693e+286\n",
            "[2.353190121694878e+141, 1.576637381535569e+143]\n",
            "5.581831466351844e+289\n",
            "[-1.0330504634240523e+143, -6.92143810494115e+144]\n",
            "1.0757361420267943e+293\n",
            "[4.535091534431588e+144, 3.0385113280691647e+146]\n",
            "2.073169450275458e+296\n",
            "[-1.9909051836154675e+146, -1.3339064730223633e+148]\n",
            "3.995432896265366e+299\n",
            "[8.740073756071906e+147, 5.855849416568176e+149]\n",
            "7.700038232011575e+302\n",
            "[-3.836892378915565e+149, -2.5707178938734294e+151]\n",
            "inf\n",
            "[1.6843957543439333e+151, 1.1285451554104354e+153]\n",
            "inf\n",
            "[-7.394497361569871e+152, -4.954313232251811e+154]\n",
            "inf\n",
            "[3.2461843417291717e+154, 2.1749435089585454e+156]\n",
            "inf\n",
            "[-1.425074926019106e+156, -9.548002004328017e+157]\n",
            "inf\n",
            "[6.256078925223878e+157, 4.191572879899999e+159]\n",
            "inf\n",
            "[-2.746418648173283e+159, -1.8401004942760997e+161]\n",
            "inf\n",
            "[1.2056777865480715e+161, 8.078041169872074e+162]\n",
            "inf\n",
            "[-5.292925482946032e+162, -3.546260073573841e+164]\n",
            "inf\n",
            "[2.3235942870133086e+164, 1.556808172298916e+166]\n",
            "inf\n",
            "[-1.0200578919988417e+166, -6.83438787639224e+167]\n",
            "inf\n",
            "None\n"
          ]
        },
        {
          "output_type": "stream",
          "name": "stderr",
          "text": [
            "/usr/local/lib/python3.8/dist-packages/numpy/core/fromnumeric.py:86: RuntimeWarning: overflow encountered in reduce\n",
            "  return ufunc.reduce(obj, axis, dtype, out, **passkwargs)\n",
            "<ipython-input-80-406df0775921>:2: RuntimeWarning: overflow encountered in square\n",
            "  return (.5/m) * np.sum(np.square(h(X,w)-np.array(y)))\n",
            "<ipython-input-94-7761a275d4e5>:14: RuntimeWarning: overflow encountered in double_scalars\n",
            "  if (w_new[0]-w_prev[0])**2 + (w_new[1]-w_prev[1])**2 <= pow(10,-4):\n"
          ]
        }
      ]
    }
  ]
}